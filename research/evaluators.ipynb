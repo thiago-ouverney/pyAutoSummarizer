{
 "cells": [
  {
   "cell_type": "markdown",
   "id": "32bda769",
   "metadata": {},
   "source": [
    "> Este ntb testa a utilização do avaliadores implementados em `pyAutoSummarizer` "
   ]
  },
  {
   "cell_type": "markdown",
   "id": "106e9659",
   "metadata": {},
   "source": [
    "# Evaluators Validation Notebook \n",
    "Este notebook demonstra, **cálculo a cálculo**, como devem ser obtidas as\n",
    "pontuações de cada métrica usada em *pyAutoSummarizer* **sem** importar as\n",
    "classes prontas de `evaluation/`.  \n"
   ]
  },
  {
   "cell_type": "code",
   "execution_count": 1,
   "id": "e2c67911",
   "metadata": {},
   "outputs": [
    {
     "data": {
      "text/plain": [
       "True"
      ]
     },
     "execution_count": 1,
     "metadata": {},
     "output_type": "execute_result"
    }
   ],
   "source": [
    "## Dependências essenciais\n",
    "# !pip -q install rouge-score nltk sentence-transformers gensim\n",
    "import warnings, nltk\n",
    "warnings.filterwarnings('ignore', category=FutureWarning)\n",
    "nltk.download('punkt_tab', quiet=True) # Baixa o PunktTokenizer"
   ]
  },
  {
   "cell_type": "markdown",
   "id": "390317ba",
   "metadata": {},
   "source": [
    "## 1  Lexical"
   ]
  },
  {
   "cell_type": "markdown",
   "id": "30da1ba1",
   "metadata": {},
   "source": [
    "> Precisaremos aplicar ``StopWords`` + ``Stemming`` antes de aplicar cada Evaluator Lexical\n",
    "\n",
    "> Nele, precisaremos flaguear se as aplicações serão em ``PT`` ou ``EN``, únicas transformações disponíveis inicialmente"
   ]
  },
  {
   "cell_type": "markdown",
   "id": "a3994d32",
   "metadata": {},
   "source": [
    "**Exemplo**\n",
    "- Referência: “Eu amo estudar na Universidade Federal Fluminense.”  \n",
    "- Resumo gerado: “Eu adoro estudar na UFF.”\n",
    "\n",
    "Calcularemos três métricas tradicionais:\n",
    "1. ROUGE‑1 F1  \n",
    "2. ROUGE‑L F1  \n",
    "3. BLEU‑4  \n",
    "4. METEOR\n",
    "\n",
    "📝 **Formato esperado** — um `dict` com quatro chaves (`rouge1_f1`,\n",
    "`rougeL_f1`, `bleu4`, `meteor`) e valores `float ∈ [0,1]`."
   ]
  },
  {
   "cell_type": "code",
   "execution_count": 2,
   "id": "1d26b3fd",
   "metadata": {},
   "outputs": [
    {
     "name": "stdout",
     "output_type": "stream",
     "text": [
      "{'rouge1_f1': 0.5, 'rougeL_f1': 0.5, 'bleu4': 0.08428828344718171, 'meteor': 0.3758169934640523}\n"
     ]
    }
   ],
   "source": [
    "from rouge_score import rouge_scorer\n",
    "from nltk.translate.bleu_score import sentence_bleu, SmoothingFunction\n",
    "from nltk.translate.meteor_score import meteor_score\n",
    "\n",
    "reference = \"Eu amo estudar na Universidade Federal Fluminense.\"\n",
    "generated  = \"Eu adoro estudar na UFF.\"\n",
    "\n",
    "# ROUGE\n",
    "scorer = rouge_scorer.RougeScorer(['rouge1', 'rougeL'], use_stemmer=True) \n",
    "# Aqui é aplicado um stemmer em inglês, \n",
    "# Para aplicarmos nosso caso de texto ptbr, preciaríamos usar o RSLPSTemmer \n",
    "rouge_scores = scorer.score(reference, generated)\n",
    "lexical = {\n",
    "    'rouge1_f1': rouge_scores['rouge1'].fmeasure,\n",
    "    'rougeL_f1': rouge_scores['rougeL'].fmeasure,\n",
    "}\n",
    "\n",
    "# BLEU‑4\n",
    "chen = SmoothingFunction()\n",
    "lexical['bleu4'] = sentence_bleu(\n",
    "    [reference.split()], # Token de Reference \n",
    "    generated.split(), # Token de Generado\n",
    "    weights=(0.25,0.25,0.25,0.25), # Pesos para BLEU-4 (4 pesos pois Bleu4)\n",
    "    smoothing_function=chen.method1 # Evita que o produto vire 0\n",
    ")\n",
    "\n",
    "# METEOR\n",
    "lexical['meteor'] = meteor_score([reference.split()], generated.split())\n",
    "\n",
    "print(lexical)\n"
   ]
  },
  {
   "cell_type": "markdown",
   "id": "f0626d90",
   "metadata": {},
   "source": [
    "### Tratando Dados para uma Avaliação Correta (PTBR)"
   ]
  },
  {
   "cell_type": "markdown",
   "id": "d0061c1a",
   "metadata": {},
   "source": [
    "> Precisamos remover ``stopwords`` e ``stemming`` para ter uma avaliação mais fiel a realidade"
   ]
  },
  {
   "cell_type": "code",
   "execution_count": 3,
   "id": "9762c8ed",
   "metadata": {},
   "outputs": [],
   "source": [
    "import re \n",
    "from nltk.corpus import stopwords\n",
    "from nltk.tokenize import word_tokenize\n",
    "from nltk.stem import RSLPStemmer, SnowballStemmer\n",
    "nltk.download('rslp',quiet=True)\n",
    "nltk.download('stopwords', quiet=True)\n",
    "nltk.download(\"punkt\", quiet=True)\n",
    "\n",
    "\n",
    "\n",
    "\n",
    "def preprocess_text(text: str,LANGUAGE='pt') -> str:\n",
    "    if LANGUAGE == \"pt\":\n",
    "        _STOP_SET  = set(stopwords.words(\"portuguese\"))\n",
    "        _STEMMER   = RSLPStemmer()\n",
    "        _TOKEN_LANG = \"portuguese\"\n",
    "    else:                          # english\n",
    "        _STOP_SET  = set(stopwords.words(\"english\"))\n",
    "        # Porter é o mais leve; Snowball costuma ser ligeiramente melhor\n",
    "        _STEMMER   = SnowballStemmer(\"english\")\n",
    "        _TOKEN_LANG = \"english\"\n",
    "    \n",
    "\n",
    "    def stemming(generated):\n",
    "        tokens = [_STEMMER.stem(w) for w in generated.split()]\n",
    "        texto_stemmed = \" \".join(tokens)\n",
    "        return texto_stemmed\n",
    "\n",
    "    def remove_stopwords(text: str) -> str:\n",
    "        return \" \".join(\n",
    "            w for w in word_tokenize(text, language=_TOKEN_LANG)\n",
    "            if w.lower() not in _STOP_SET\n",
    "        )\n",
    "\n",
    "    def remove_ruido(texto: str) -> str:\n",
    "        _URLS_HASHTAGS_MENCOES = re.compile(r'https?://\\S+|www\\.\\S+|[@#]\\w+', flags=re.UNICODE)\n",
    "        _DIGITOS                = re.compile(r'\\d+', flags=re.UNICODE)\n",
    "        _PONTUACAO_E_SIMBOLOS   = re.compile(r'[^A-Za-zÀ-ÖØ-öø-ÿ\\s]', flags=re.UNICODE)\n",
    "        _ESPACOS                = re.compile(r'\\s+', flags=re.UNICODE)\n",
    "\n",
    "        # 1) URLs, hashtags, @menções\n",
    "        texto = _URLS_HASHTAGS_MENCOES.sub(' ', texto)\n",
    "\n",
    "        # 2) Dígitos\n",
    "        texto = _DIGITOS.sub(' ', texto)\n",
    "\n",
    "        # 3) Pontuação e símbolos \n",
    "        texto = _PONTUACAO_E_SIMBOLOS.sub(' ', texto)\n",
    "\n",
    "        # 4) Espaços múltiplos\n",
    "        texto = _ESPACOS.sub(' ', texto).strip()\n",
    "\n",
    "        # 7. Caixa baixa (consistência)\n",
    "        return texto.lower()\n",
    "\n",
    "    text = remove_ruido(text)\n",
    "    text = remove_stopwords(text)\n",
    "    text = stemming(text)\n",
    "    return text"
   ]
  },
  {
   "cell_type": "code",
   "execution_count": 4,
   "id": "453c141f",
   "metadata": {},
   "outputs": [
    {
     "data": {
      "text/plain": [
       "'quick brown fox jump lazi dog'"
      ]
     },
     "execution_count": 4,
     "metadata": {},
     "output_type": "execute_result"
    }
   ],
   "source": [
    "reference = \"A quick brown fox jumps over the lazy dog.\"\n",
    "generated  = \"A fast brown fox leaps over a lazy dog.\"\n",
    "preprocess_text(reference,LANGUAGE='english')"
   ]
  },
  {
   "cell_type": "code",
   "execution_count": 5,
   "id": "2ef089e9",
   "metadata": {},
   "outputs": [],
   "source": [
    "reference = \"Eu amo estudar na Universidade Federal Fluminense.\"\n",
    "generated  = \"Eu adoro estudar na UFF.\"\n",
    "reference_preprocessed = preprocess_text(reference)\n",
    "generated_preprocessed  = preprocess_text(generated)\n",
    "# ROUGE\n",
    "scorer = rouge_scorer.RougeScorer(['rouge1', 'rougeL'], use_stemmer=True) \n",
    "# Aqui é aplicado um stemmer em inglês, \n",
    "# Para aplicarmos nosso caso de texto ptbr, preciaríamos usar o RSLPSTemmer \n",
    "rouge_scores = scorer.score(reference_preprocessed, generated_preprocessed)\n",
    "lexical = {\n",
    "    'rouge1_f1': rouge_scores['rouge1'].fmeasure,\n",
    "    'rougeL_f1': rouge_scores['rougeL'].fmeasure,\n",
    "}\n",
    "\n",
    "# BLEU‑4\n",
    "chen = SmoothingFunction()\n",
    "lexical['bleu4'] = sentence_bleu(\n",
    "    [reference_preprocessed.split()], # Token de Reference \n",
    "    generated_preprocessed.split(), # Token de Generado\n",
    "    weights=(0.25,0.25,0.25,0.25), # Pesos para BLEU-4 (4 pesos pois Bleu4)\n",
    "    smoothing_function=chen.method1 # Evita que o produto vire 0\n",
    ")\n",
    "\n",
    "# METEOR\n",
    "lexical['meteor'] = meteor_score([reference_preprocessed.split()], generated_preprocessed.split())"
   ]
  },
  {
   "cell_type": "code",
   "execution_count": 6,
   "id": "95cb6857",
   "metadata": {},
   "outputs": [
    {
     "name": "stdout",
     "output_type": "stream",
     "text": [
      "amo estud univers feder flumin ador estud uff {'rouge1_f1': 0.25, 'rougeL_f1': 0.25, 'bleu4': 0.05833544737207805, 'meteor': 0.10416666666666666}\n"
     ]
    }
   ],
   "source": [
    "print(reference_preprocessed,generated_preprocessed,lexical)"
   ]
  },
  {
   "cell_type": "markdown",
   "id": "58cb3591",
   "metadata": {},
   "source": [
    "## 2  Semantic"
   ]
  },
  {
   "cell_type": "markdown",
   "id": "ba93e8db",
   "metadata": {},
   "source": [
    "Agora mediremos similaridade de significado usando **Sentence‑BERT** . Escolhemos uma frase de exemplo em inglês\n",
    "porque os modelos pré‑treinados são mais robustos nesse idioma."
   ]
  },
  {
   "cell_type": "markdown",
   "id": "864a9f86",
   "metadata": {},
   "source": [
    "### Sentence BERT"
   ]
  },
  {
   "cell_type": "markdown",
   "id": "ca6a8a71",
   "metadata": {},
   "source": [
    "> Faz sentido aplicar para parágrafos completos ? Deveria quebrar por sentenças ?"
   ]
  },
  {
   "cell_type": "markdown",
   "id": "47c2473b",
   "metadata": {},
   "source": [
    "* Podemos gerar um embedding represetnando as senteças e comparar entre si\n",
    "* Podemos considerar tudo um só sentença "
   ]
  },
  {
   "cell_type": "code",
   "execution_count": null,
   "id": "4cb8fef0",
   "metadata": {},
   "outputs": [],
   "source": [
    "from sentence_transformers import SentenceTransformer\n",
    "\n",
    "model = SentenceTransformer(\"all-MiniLM-L6-v2\")\n",
    "\n",
    "# Two lists of sentences\n",
    "sentences1 = [\n",
    "    \"The new movie is awesome\",\n",
    "    \"The cat sits outside\",\n",
    "    \"A man is playing guitar\",\n",
    "]\n",
    "\n",
    "sentences2 = [\n",
    "    \"The dog plays in the garden\",\n",
    "    \"The new movie is so great\",\n",
    "    \"A woman watches TV\",\n",
    "]\n",
    "\n",
    "# Compute embeddings for both lists\n",
    "embeddings1 = model.encode(sentences1)\n",
    "embeddings2 = model.encode(sentences2)\n",
    "\n",
    "# Compute cosine similarities\n",
    "similarities = model.similarity(embeddings1, embeddings2)\n",
    "\n",
    "# Output the pairs with their score\n",
    "for idx_i, sentence1 in enumerate(sentences1):\n",
    "    print(sentence1)\n",
    "    for idx_j, sentence2 in enumerate(sentences2):\n",
    "        print(f\" - {sentence2: <30}: {similarities[idx_i][idx_j]:.4f}\")"
   ]
  },
  {
   "cell_type": "markdown",
   "id": "3c1ae612",
   "metadata": {},
   "source": [
    "### BERT Score "
   ]
  },
  {
   "cell_type": "markdown",
   "id": "7385b592",
   "metadata": {},
   "source": [
    "**Representação de Tokens:** \n",
    "    O BERTScore utiliza embeddings contextuais (provenientes de modelos pré-treinados como BERT, RoBERTa, XLNet ou XLM) para representar os tokens nas sentenças de entrada. A vantagem desses embeddings é que eles geram representações vetoriais diferentes para a mesma palavra em sentenças distintas, dependendo do contexto circundante.\n",
    "\n",
    "**Medida de Similaridade:** \n",
    "    A similaridade entre um token $x_i$ da referência e um token $\\hat{x}_j$ da candidata é calculada pela similaridade de cosseno entre seus respectivos vetores de embedding. Essa abordagem oferece uma medida de similaridade \"suave\", superando a necessidade de correspondência exata de strings.\n",
    "\n",
    "**Correspondência Greedy:** Para calcular a precisão e o recall, o BERTScore emprega uma estratégia de correspondência gulosa (greedy matching). Isso significa que cada token é correspondido ao token mais similar na outra sentença para maximizar a pontuação de similaridade.\n",
    "\n",
    "**Cálculo das Pontuações (Precision, Recall, F1):**\n",
    "\n",
    "> Recall (R_BERT): É a média das similaridades de cosseno máximas, onde cada token da referência é correspondido ao token mais similar na candidata \n",
    "\n",
    "> Precision (P_BERT): É a média das similaridades de cosseno máximas, onde cada token da candidata é correspondido ao token mais similar na referência.\n",
    "\n",
    "> F1 (F_BERT): É a média harmônica da Precisão e do Recall. De forma geral, a recomendação é usar F1, pois ele se mostra mais confiável em diversos cenários."
   ]
  },
  {
   "cell_type": "code",
   "execution_count": 8,
   "id": "b7df2f4b",
   "metadata": {},
   "outputs": [
    {
     "name": "stderr",
     "output_type": "stream",
     "text": [
      "Downloading: 100%|██████████| 25.0/25.0 [00:00<00:00, 25.0kB/s]\n",
      "Downloading: 100%|██████████| 482/482 [00:00<00:00, 317kB/s]\n",
      "Downloading: 100%|██████████| 899k/899k [00:00<00:00, 7.63MB/s]\n",
      "Downloading: 100%|██████████| 456k/456k [00:00<00:00, 3.05MB/s]\n",
      "Downloading: 100%|██████████| 1.36M/1.36M [00:00<00:00, 11.1MB/s]\n",
      "Downloading: 100%|██████████| 1.43G/1.43G [00:31<00:00, 45.7MB/s]\n",
      "Some weights of the model checkpoint at roberta-large were not used when initializing RobertaModel: ['lm_head.dense.bias', 'lm_head.bias', 'lm_head.layer_norm.bias', 'lm_head.layer_norm.weight', 'lm_head.decoder.weight', 'lm_head.dense.weight']\n",
      "- This IS expected if you are initializing RobertaModel from the checkpoint of a model trained on another task or with another architecture (e.g. initializing a BertForSequenceClassification model from a BertForPreTraining model).\n",
      "- This IS NOT expected if you are initializing RobertaModel from the checkpoint of a model that you expect to be exactly identical (initializing a BertForSequenceClassification model from a BertForSequenceClassification model).\n"
     ]
    }
   ],
   "source": [
    "import bert_score\n",
    "reference = \"A quick brown banana jumps over the lazy dog.\"\n",
    "generated  = \"A fast brown fox leaps over a lazy dog.\"\n",
    "lang = 'en'  # Define the language for BERTScore\n",
    "P, R, F1 = bert_score.score([generated], [reference], lang=lang,\n",
    "                             rescale_with_baseline=True,\n",
    "                             idf=False)"
   ]
  },
  {
   "cell_type": "markdown",
   "id": "fa40ee97",
   "metadata": {},
   "source": [
    "https://github.com/Tiiiger/bert_score#readme"
   ]
  },
  {
   "cell_type": "markdown",
   "id": "97f19b70",
   "metadata": {},
   "source": [
    "Pontos Relevantes:\n",
    "\n",
    "* Ponderação de Importância (IDF)\n",
    "> Para dar mais peso a palavras raras que são mais indicativas de similaridade semântica, o BERTScore permite a incorporação de pesos IDF (Inverse Document Frequency), calculados a partir do corpus de generated\n",
    "* Reescalonamento de Linha de Base"
   ]
  },
  {
   "cell_type": "code",
   "execution_count": 9,
   "id": "6e376c93",
   "metadata": {},
   "outputs": [
    {
     "name": "stdout",
     "output_type": "stream",
     "text": [
      "tensor([0.6879]) tensor([0.6744]) tensor([0.6816])\n"
     ]
    }
   ],
   "source": [
    "print(P,R,F1)"
   ]
  },
  {
   "cell_type": "code",
   "execution_count": null,
   "id": "b1361c4a",
   "metadata": {},
   "outputs": [
    {
     "name": "stderr",
     "output_type": "stream",
     "text": [
      "Some weights of RobertaModel were not initialized from the model checkpoint at roberta-large and are newly initialized: ['pooler.dense.bias', 'pooler.dense.weight']\n",
      "You should probably TRAIN this model on a down-stream task to be able to use it for predictions and inference.\n"
     ]
    },
    {
     "data": {
      "image/png": "[encoded data removed]",
      "text/plain": [
       "<Figure size 1000x1000 with 2 Axes>"
      ]
     },
     "metadata": {},
     "output_type": "display_data"
    }
   ],
   "source": [
    "from bert_score import plot_example\n",
    "plot_example(reference, generated, lang=\"en\",rescale_with_baseline=False)\n"
   ]
  },
  {
   "cell_type": "markdown",
   "id": "dcc7b8d5",
   "metadata": {},
   "source": [
    "## 3  Factual  \n",
    "*(métricas serão adicionadas futuramente)*"
   ]
  },
  {
   "cell_type": "code",
   "execution_count": 2,
   "id": "6f72bbf7",
   "metadata": {},
   "outputs": [],
   "source": [
    "!pip -q install --upgrade transformers torch"
   ]
  },
  {
   "cell_type": "code",
   "execution_count": 1,
   "id": "435627fb",
   "metadata": {},
   "outputs": [
    {
     "name": "stderr",
     "output_type": "stream",
     "text": [
      "c:\\Users\\thiago.ouverney\\Projetos\\pyAutoSummarizer\\.venv\\lib\\site-packages\\tqdm\\auto.py:21: TqdmWarning: IProgress not found. Please update jupyter and ipywidgets. See https://ipywidgets.readthedocs.io/en/stable/user_install.html\n",
      "  from .autonotebook import tqdm as notebook_tqdm\n"
     ]
    }
   ],
   "source": [
    "from transformers import BertTokenizer, BertForSequenceClassification\n",
    "import torch, textwrap\n",
    "\n",
    "MODEL_NAME = \"manueldeprada/FactCC\"  # modelo hospedado no HuggingFace Hub\n",
    "\n",
    "tokenizer = BertTokenizer.from_pretrained(MODEL_NAME)\n",
    "model = BertForSequenceClassification.from_pretrained(MODEL_NAME)\n",
    "\n",
    "label_map = model.config.id2label  # {0: 'CORRECT', 1: 'INCORRECT'}"
   ]
  },
  {
   "cell_type": "code",
   "execution_count": 39,
   "id": "7ad02739",
   "metadata": {},
   "outputs": [
    {
     "name": "stdout",
     "output_type": "stream",
     "text": [
      "{0: 'CORRECT', 1: 'INCORRECT'}\n"
     ]
    }
   ],
   "source": [
    "print(label_map)"
   ]
  },
  {
   "cell_type": "code",
   "execution_count": 2,
   "id": "deeffd21",
   "metadata": {},
   "outputs": [],
   "source": [
    "def factcc_predict(source: str, summary: str, max_length: int = 512):\n",
    "    encoded = tokenizer(source,\n",
    "                        summary,\n",
    "                        truncation='only_first',\n",
    "                        padding='max_length',\n",
    "                        # max_length=max_length,\n",
    "                        return_tensors='pt')\n",
    "    with torch.no_grad():\n",
    "        logits = model(**encoded).logits\n",
    "        probs = torch.softmax(logits, dim=-1)[0]\n",
    "        label_id = torch.argmax(probs).item()\n",
    "    return label_map[label_id], probs[label_id].item()"
   ]
  },
  {
   "cell_type": "code",
   "execution_count": 3,
   "id": "d7811a30",
   "metadata": {},
   "outputs": [
    {
     "name": "stdout",
     "output_type": "stream",
     "text": [
      "Resumo: The US has more than 630,000 Covid‑19 cases and over 30,000 deaths, but officials say the country has likely passed the infection peak.\\n→ CORRECT  (confiança: 0.530)\n",
      "Resumo: The pandemic has almost not affected the US.\\n→ INCORRECT  (confiança: 0.998)\n"
     ]
    }
   ],
   "source": [
    "fonte = textwrap.dedent(\n",
    "\"\"\"\n",
    "    The US has \\\"passed the peak\\\" on new coronavirus cases, the White House reported.\n",
    "    They predict that some states would reopen this month.\n",
    "    The US has over 637,000 confirmed Covid-19 cases and over 30,826 deaths,\n",
    "    the highest for any country in the world.\"\"\")\n",
    "\n",
    "resumo_correto = \"The US has more than 630,000 Covid‑19 cases and over 30,000 deaths, but officials say the country has likely passed the infection peak.\"\n",
    "resumo_incorreto = \"The pandemic has almost not affected the US.\"\n",
    "\n",
    "for r in [resumo_correto, resumo_incorreto]:\n",
    "    label, score = factcc_predict(fonte, r)\n",
    "    print(f\"Resumo: {r}\\\\n→ {label}  (confiança: {score:.3f})\")"
   ]
  },
  {
   "cell_type": "markdown",
   "id": "3ac481a3",
   "metadata": {},
   "source": [
    "> Testando nos dados fornecidos"
   ]
  },
  {
   "cell_type": "code",
   "execution_count": 8,
   "id": "0f1897e1",
   "metadata": {},
   "outputs": [],
   "source": [
    "from pyAutoSummarizer.base.evaluation.factual import FactCCEvaluator\n",
    "from pyAutoSummarizer.base.evaluation.base import get_summary_evaluation\n",
    "\n",
    "factcc_evaluator = FactCCEvaluator(signed=False)   # ou True, se preferir\n"
   ]
  },
  {
   "cell_type": "code",
   "execution_count": 9,
   "id": "5856fea3",
   "metadata": {},
   "outputs": [],
   "source": [
    "fonte = textwrap.dedent(\n",
    "\"\"\"\n",
    "    The US has \\\"passed the peak\\\" on new coronavirus cases, the White House reported.\n",
    "    They predict that some states would reopen this month.\n",
    "    The US has over 637,000 confirmed Covid-19 cases and over 30,826 deaths,\n",
    "    the highest for any country in the world.\"\"\")\n",
    "\n",
    "resumo_correto = \"The US has more than 630,000 Covid‑19 cases and over 30,000 deaths, but officials say the country has likely passed the infection peak.\"\n",
    "scores = get_summary_evaluation(\n",
    "    fonte,\n",
    "    resumo_correto,\n",
    "    evaluators=[factcc_evaluator]\n",
    ")"
   ]
  },
  {
   "cell_type": "code",
   "execution_count": 10,
   "id": "1346afb0",
   "metadata": {},
   "outputs": [
    {
     "data": {
      "text/plain": [
       "{'factcc_score': 0.529938280582428, 'factcc_label': 'CORRECT'}"
      ]
     },
     "execution_count": 10,
     "metadata": {},
     "output_type": "execute_result"
    }
   ],
   "source": [
    "scores"
   ]
  },
  {
   "cell_type": "code",
   "execution_count": 11,
   "id": "75c2c1a2",
   "metadata": {},
   "outputs": [],
   "source": [
    "import pandas as pd\n",
    "\n",
    "df = pd.read_csv(\"C:\\\\Users\\\\thiago.ouverney\\\\Projetos\\\\pyAutoSummarizer\\\\data\\\\model_annotations_merged.csv\")"
   ]
  },
  {
   "cell_type": "code",
   "execution_count": 15,
   "id": "b3f1ffc6",
   "metadata": {},
   "outputs": [
    {
     "data": {
      "text/plain": [
       "\"Paul Merson has restarted his row with Andros Townsend after the Tottenham midfielder was brought on with only seven minutes remaining in his team's 0-0 draw with Burnley on Sunday.\\n\\n'Just been watching the game, did you miss the coach? #RubberDub #7minutes,' Merson put on Twitter.\\n\\nMerson initially angered Townsend for writing in his Sky Sports column that 'if Andros Townsend can get in (the England team) then it opens it up to anybody.'\\n\\nPaul Merson had another dig at Andros Townsend after his appearance for Tottenham against Burnley\\n\\nTownsend was brought on in the 83rd minute for Tottenham as they drew 0-0 against Burnley\\n\\nAndros Townsend scores England's equaliser in their 1-1 friendly draw with Italy in Turin on Tuesday night\\n\\nThe former Arsenal man was proven wrong when Townsend hit a stunning equaliser for England against Italy and he duly admitted his mistake.\\n\\n'It's not as though I was watching hoping he wouldn't score for England, I'm genuinely pleased for him and fair play to him – it was a great goal,' Merson said. 'It's just a matter of opinion, and my opinion was that he got pulled off after half an hour at Manchester United in front of Roy Hodgson, so he shouldn't have been in the squad.\\n\\n'When I'm wrong, I hold my hands up. I don't have a problem with doing that - I'll always be the first to admit when I'm wrong.'\\n\\nTownsend hit back at Merson on Twitter after scoring for England against Italy\\n\\nSky Sports pundit  Merson (centre) criticised Townsend's call-up to the England squad last week\\n\\nTownsend hit back at Merson after netting for England in Turin on Wednesday, saying 'Not bad for a player that should be 'nowhere near the squad' ay @PaulMerse?'\\n\\nAny bad feeling between the pair seemed to have passed but Merson was unable to resist having another dig at Townsend after Tottenham drew at Turf Moor.\\n\\n\\xa0\\n\\n\\xa0\\n\\n\\xa0\\n\\n@highlight\\n\\nAndros Townsend an 83rd minute sub in Tottenham's draw with Burnley\\n\\n@highlight\\n\\nHe was unable to find a winner as the game ended without a goal\\n\\n@highlight\\n\\nTownsend had clashed with Paul Merson last week over England call-up \\xa0\""
      ]
     },
     "execution_count": 15,
     "metadata": {},
     "output_type": "execute_result"
    }
   ],
   "source": [
    "fonte = textwrap.dedent(df.loc[0,\"content\"])\n",
    "fonte"
   ]
  },
  {
   "cell_type": "code",
   "execution_count": 24,
   "id": "c4a091bc",
   "metadata": {},
   "outputs": [
    {
     "data": {
      "text/plain": [
       "\"Andros Townsend an 83rd minute sub in Tottenham's draw with Burnley. He was unable to find a winner as the game ended without a goal. Townsend had clashed with Paul Merson last week over England call-up.\""
      ]
     },
     "execution_count": 24,
     "metadata": {},
     "output_type": "execute_result"
    }
   ],
   "source": [
    "resumo = df.loc[0,'decoded']\n",
    "resumo_correto = df.loc[0,'references']\n",
    "eval(resumo_correto)[0]"
   ]
  },
  {
   "cell_type": "code",
   "execution_count": 30,
   "id": "d85b2e31",
   "metadata": {},
   "outputs": [
    {
     "name": "stdout",
     "output_type": "stream",
     "text": [
      "Scores for summary 0: {'factcc_score': 0.9997658133506775, 'factcc_label': 'CORRECT'}\n",
      "Scores for summary 1: {'factcc_score': 0.005119919776916504, 'factcc_label': 'INCORRECT'}\n",
      "Scores for summary 2: {'factcc_score': 0.9331925511360168, 'factcc_label': 'CORRECT'}\n",
      "Scores for summary 3: {'factcc_score': 0.024936139583587646, 'factcc_label': 'INCORRECT'}\n",
      "Scores for summary 4: {'factcc_score': 0.9941294193267822, 'factcc_label': 'CORRECT'}\n",
      "Scores for summary 5: {'factcc_score': 0.1509883999824524, 'factcc_label': 'INCORRECT'}\n",
      "Scores for summary 6: {'factcc_score': 0.605004072189331, 'factcc_label': 'CORRECT'}\n",
      "Scores for summary 7: {'factcc_score': 0.00023788213729858398, 'factcc_label': 'INCORRECT'}\n",
      "Scores for summary 8: {'factcc_score': 0.2600637674331665, 'factcc_label': 'INCORRECT'}\n",
      "Scores for summary 9: {'factcc_score': 0.0033246278762817383, 'factcc_label': 'INCORRECT'}\n",
      "Scores for summary 10: {'factcc_score': 0.0035320520401000977, 'factcc_label': 'INCORRECT'}\n"
     ]
    }
   ],
   "source": [
    "resumo_correto = df.loc[10,'references']\n",
    "for i in range(11):\n",
    "    scores = get_summary_evaluation(\n",
    "        textwrap.dedent(df.loc[0,\"content\"]),\n",
    "        eval(resumo_correto)[i],\n",
    "        evaluators=[factcc_evaluator]\n",
    "    )\n",
    "    print(f\"Scores for summary {i}: {scores}\")"
   ]
  },
  {
   "cell_type": "code",
   "execution_count": 26,
   "id": "5ccba452",
   "metadata": {},
   "outputs": [
    {
     "data": {
      "text/plain": [
       "{'factcc_score': 0.9997658133506775, 'factcc_label': 'CORRECT'}"
      ]
     },
     "execution_count": 26,
     "metadata": {},
     "output_type": "execute_result"
    }
   ],
   "source": [
    "scores"
   ]
  }
 ],
 "metadata": {
  "kernelspec": {
   "display_name": ".venv",
   "language": "python",
   "name": "python3"
  },
  "language_info": {
   "codemirror_mode": {
    "name": "ipython",
    "version": 3
   },
   "file_extension": ".py",
   "mimetype": "text/x-python",
   "name": "python",
   "nbconvert_exporter": "python",
   "pygments_lexer": "ipython3",
   "version": "3.9.13"
  }
 },
 "nbformat": 4,
 "nbformat_minor": 5
}
