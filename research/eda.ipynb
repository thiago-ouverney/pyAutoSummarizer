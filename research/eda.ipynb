{
 "cells": [
  {
   "cell_type": "code",
   "execution_count": 1,
   "id": "835190e6",
   "metadata": {},
   "outputs": [],
   "source": [
    "%load_ext autoreload\n",
    "%autoreload 2"
   ]
  },
  {
   "cell_type": "code",
   "execution_count": null,
   "id": "4327dec3",
   "metadata": {},
   "outputs": [
    {
     "name": "stderr",
     "output_type": "stream",
     "text": [
      "c:\\Users\\thiago.ouverney\\Projetos\\pyAutoSummarizer\\.venv\\lib\\site-packages\\tqdm\\auto.py:21: TqdmWarning: IProgress not found. Please update jupyter and ipywidgets. See https://ipywidgets.readthedocs.io/en/stable/user_install.html\n",
      "  from .autonotebook import tqdm as notebook_tqdm\n"
     ]
    }
   ],
   "source": [
    "# 1.1. Imports básicos\n",
    "import pandas as pd\n",
    "from pyAutoSummarizer.base.evaluation.base import get_summary_evaluation\n",
    "from pyAutoSummarizer.base.evaluation.lexical import RougeEvaluator, BLEUEvaluator\n",
    "from pyAutoSummarizer.base.evaluation.semantic import BERTScoreEvaluator\n",
    "from research.src.functions import get_metrics_annotations, get_metrics_evaluator, get_corr\n",
    "\n",
    "\n",
    "### Constantes\n",
    "\n",
    "from research.src.constants import (\n",
    "    PATH_SUMMEVAL_JSONL,\n",
    "    LEXICAL_EVAL,\n",
    "    LEXICAL_PREFIX,\n",
    "    SEMANTIC_PREFIX,\n",
    "    SEMANTIC_EVAL,\n",
    "    JOIN_COLS,\n",
    "    LEXICAL_COL,\n",
    "    SEMANTIC_COL,\n",
    "    NEW_METRIC_COL,\n",
    "    EVAL_COLS,\n",
    "    METHODS,\n",
    "    N,\n",
    "    HUMAN_COLS,\n",
    "    FINAL_METRIC\n",
    ")"
   ]
  },
  {
   "cell_type": "markdown",
   "id": "cafc3450",
   "metadata": {},
   "source": [
    "# SummEval"
   ]
  },
  {
   "cell_type": "markdown",
   "id": "f7733039",
   "metadata": {},
   "source": [
    "* id: Identificador único da instância (string), ex. dm-test-…, usado para rastreamento.\n",
    "\n",
    "* decoded: Sumário gerado pelo modelo (string), é a saída a ser avaliada.\n",
    "\n",
    "* expert_annotations: Lista de dicionários com notas de especialistas (coherence, consistency, fluency, relevance).\n",
    "\n",
    "* turker_annotations: Lista de dicionários com notas crowdsourced nos mesmos critérios dos experts.\n",
    "\n",
    "* references: Lista de sumários humanos de referência (strings) para comparação automática.\n",
    "\n",
    "* model_id: Código do modelo que produziu decoded (string), ex. M11.\n",
    "\n",
    "* filepath: Caminho do arquivo de origem do documento completo (string)."
   ]
  },
  {
   "cell_type": "markdown",
   "id": "81590180",
   "metadata": {},
   "source": [
    "## Carregando os Dados"
   ]
  },
  {
   "cell_type": "code",
   "execution_count": 3,
   "id": "d40dfe57",
   "metadata": {},
   "outputs": [],
   "source": [
    "df = pd.read_json(PATH_SUMMEVAL_JSONL, lines=True)\n"
   ]
  },
  {
   "cell_type": "code",
   "execution_count": 4,
   "id": "e9861a0c",
   "metadata": {},
   "outputs": [
    {
     "data": {
      "text/html": [
       "<div>\n",
       "<style scoped>\n",
       "    .dataframe tbody tr th:only-of-type {\n",
       "        vertical-align: middle;\n",
       "    }\n",
       "\n",
       "    .dataframe tbody tr th {\n",
       "        vertical-align: top;\n",
       "    }\n",
       "\n",
       "    .dataframe thead th {\n",
       "        text-align: right;\n",
       "    }\n",
       "</style>\n",
       "<table border=\"1\" class=\"dataframe\">\n",
       "  <thead>\n",
       "    <tr style=\"text-align: right;\">\n",
       "      <th></th>\n",
       "      <th>id</th>\n",
       "      <th>decoded</th>\n",
       "      <th>expert_annotations</th>\n",
       "      <th>turker_annotations</th>\n",
       "      <th>references</th>\n",
       "      <th>model_id</th>\n",
       "      <th>filepath</th>\n",
       "    </tr>\n",
       "  </thead>\n",
       "  <tbody>\n",
       "    <tr>\n",
       "      <th>1595</th>\n",
       "      <td>dm-test-e880fda4c25289f8325574246f0f8ed4ff5eb26b</td>\n",
       "      <td>a timewarp home which has remained unchanged s...</td>\n",
       "      <td>[{'coherence': 5, 'consistency': 5, 'fluency':...</td>\n",
       "      <td>[{'coherence': 4, 'consistency': 3, 'fluency':...</td>\n",
       "      <td>[Nondescript semi-detached home for sale in Ho...</td>\n",
       "      <td>M0</td>\n",
       "      <td>cnndm/dailymail/stories/e880fda4c25289f8325574...</td>\n",
       "    </tr>\n",
       "    <tr>\n",
       "      <th>1596</th>\n",
       "      <td>dm-test-e880fda4c25289f8325574246f0f8ed4ff5eb26b</td>\n",
       "      <td>The collector 's paradise in Horfield , Bristo...</td>\n",
       "      <td>[{'coherence': 3, 'consistency': 5, 'fluency':...</td>\n",
       "      <td>[{'coherence': 4, 'consistency': 4, 'fluency':...</td>\n",
       "      <td>[Nondescript semi-detached home for sale in Ho...</td>\n",
       "      <td>M22</td>\n",
       "      <td>cnndm/dailymail/stories/e880fda4c25289f8325574...</td>\n",
       "    </tr>\n",
       "    <tr>\n",
       "      <th>1597</th>\n",
       "      <td>dm-test-e880fda4c25289f8325574246f0f8ed4ff5eb26b</td>\n",
       "      <td>the collector’s paradise in horfield , bristol...</td>\n",
       "      <td>[{'coherence': 5, 'consistency': 5, 'fluency':...</td>\n",
       "      <td>[{'coherence': 4, 'consistency': 4, 'fluency':...</td>\n",
       "      <td>[Nondescript semi-detached home for sale in Ho...</td>\n",
       "      <td>M8</td>\n",
       "      <td>cnndm/dailymail/stories/e880fda4c25289f8325574...</td>\n",
       "    </tr>\n",
       "    <tr>\n",
       "      <th>1598</th>\n",
       "      <td>dm-test-e880fda4c25289f8325574246f0f8ed4ff5eb26b</td>\n",
       "      <td>the collector 's paradise in horfield , bristo...</td>\n",
       "      <td>[{'coherence': 3, 'consistency': 5, 'fluency':...</td>\n",
       "      <td>[{'coherence': 4, 'consistency': 3, 'fluency':...</td>\n",
       "      <td>[Nondescript semi-detached home for sale in Ho...</td>\n",
       "      <td>M10</td>\n",
       "      <td>cnndm/dailymail/stories/e880fda4c25289f8325574...</td>\n",
       "    </tr>\n",
       "    <tr>\n",
       "      <th>1599</th>\n",
       "      <td>dm-test-e880fda4c25289f8325574246f0f8ed4ff5eb26b</td>\n",
       "      <td>the timewarp home has remained unchanged since...</td>\n",
       "      <td>[{'coherence': 3, 'consistency': 5, 'fluency':...</td>\n",
       "      <td>[{'coherence': 4, 'consistency': 3, 'fluency':...</td>\n",
       "      <td>[Nondescript semi-detached home for sale in Ho...</td>\n",
       "      <td>M9</td>\n",
       "      <td>cnndm/dailymail/stories/e880fda4c25289f8325574...</td>\n",
       "    </tr>\n",
       "  </tbody>\n",
       "</table>\n",
       "</div>"
      ],
      "text/plain": [
       "                                                    id  \\\n",
       "1595  dm-test-e880fda4c25289f8325574246f0f8ed4ff5eb26b   \n",
       "1596  dm-test-e880fda4c25289f8325574246f0f8ed4ff5eb26b   \n",
       "1597  dm-test-e880fda4c25289f8325574246f0f8ed4ff5eb26b   \n",
       "1598  dm-test-e880fda4c25289f8325574246f0f8ed4ff5eb26b   \n",
       "1599  dm-test-e880fda4c25289f8325574246f0f8ed4ff5eb26b   \n",
       "\n",
       "                                                decoded  \\\n",
       "1595  a timewarp home which has remained unchanged s...   \n",
       "1596  The collector 's paradise in Horfield , Bristo...   \n",
       "1597  the collector’s paradise in horfield , bristol...   \n",
       "1598  the collector 's paradise in horfield , bristo...   \n",
       "1599  the timewarp home has remained unchanged since...   \n",
       "\n",
       "                                     expert_annotations  \\\n",
       "1595  [{'coherence': 5, 'consistency': 5, 'fluency':...   \n",
       "1596  [{'coherence': 3, 'consistency': 5, 'fluency':...   \n",
       "1597  [{'coherence': 5, 'consistency': 5, 'fluency':...   \n",
       "1598  [{'coherence': 3, 'consistency': 5, 'fluency':...   \n",
       "1599  [{'coherence': 3, 'consistency': 5, 'fluency':...   \n",
       "\n",
       "                                     turker_annotations  \\\n",
       "1595  [{'coherence': 4, 'consistency': 3, 'fluency':...   \n",
       "1596  [{'coherence': 4, 'consistency': 4, 'fluency':...   \n",
       "1597  [{'coherence': 4, 'consistency': 4, 'fluency':...   \n",
       "1598  [{'coherence': 4, 'consistency': 3, 'fluency':...   \n",
       "1599  [{'coherence': 4, 'consistency': 3, 'fluency':...   \n",
       "\n",
       "                                             references model_id  \\\n",
       "1595  [Nondescript semi-detached home for sale in Ho...       M0   \n",
       "1596  [Nondescript semi-detached home for sale in Ho...      M22   \n",
       "1597  [Nondescript semi-detached home for sale in Ho...       M8   \n",
       "1598  [Nondescript semi-detached home for sale in Ho...      M10   \n",
       "1599  [Nondescript semi-detached home for sale in Ho...       M9   \n",
       "\n",
       "                                               filepath  \n",
       "1595  cnndm/dailymail/stories/e880fda4c25289f8325574...  \n",
       "1596  cnndm/dailymail/stories/e880fda4c25289f8325574...  \n",
       "1597  cnndm/dailymail/stories/e880fda4c25289f8325574...  \n",
       "1598  cnndm/dailymail/stories/e880fda4c25289f8325574...  \n",
       "1599  cnndm/dailymail/stories/e880fda4c25289f8325574...  "
      ]
     },
     "execution_count": 4,
     "metadata": {},
     "output_type": "execute_result"
    }
   ],
   "source": [
    "df.tail()"
   ]
  },
  {
   "cell_type": "markdown",
   "id": "8d5df60e",
   "metadata": {},
   "source": [
    "### Análise Individual"
   ]
  },
  {
   "cell_type": "code",
   "execution_count": 5,
   "id": "45052e3b",
   "metadata": {},
   "outputs": [
    {
     "data": {
      "text/plain": [
       "id                     dm-test-8764fb95bfad8ee849274873a92fb8d6b400eee2\n",
       "decoded               paul merson was brought on with only seven min...\n",
       "expert_annotations    [{'coherence': 2, 'consistency': 1, 'fluency':...\n",
       "turker_annotations    [{'coherence': 3, 'consistency': 3, 'fluency':...\n",
       "references            [Andros Townsend an 83rd minute sub in Tottenh...\n",
       "model_id                                                            M11\n",
       "filepath              cnndm/dailymail/stories/8764fb95bfad8ee8492748...\n",
       "Name: 0, dtype: object"
      ]
     },
     "execution_count": 5,
     "metadata": {},
     "output_type": "execute_result"
    }
   ],
   "source": [
    "df.loc[0]"
   ]
  },
  {
   "cell_type": "markdown",
   "id": "1eb1f66f",
   "metadata": {},
   "source": [
    "### Inspeção de tipos e não-nulos"
   ]
  },
  {
   "cell_type": "code",
   "execution_count": 6,
   "id": "61be8e95",
   "metadata": {},
   "outputs": [
    {
     "name": "stdout",
     "output_type": "stream",
     "text": [
      "<class 'pandas.core.frame.DataFrame'>\n",
      "RangeIndex: 1600 entries, 0 to 1599\n",
      "Data columns (total 7 columns):\n",
      " #   Column              Non-Null Count  Dtype \n",
      "---  ------              --------------  ----- \n",
      " 0   id                  1600 non-null   object\n",
      " 1   decoded             1600 non-null   object\n",
      " 2   expert_annotations  1600 non-null   object\n",
      " 3   turker_annotations  1600 non-null   object\n",
      " 4   references          1600 non-null   object\n",
      " 5   model_id            1600 non-null   object\n",
      " 6   filepath            1600 non-null   object\n",
      "dtypes: object(7)\n",
      "memory usage: 87.6+ KB\n"
     ]
    }
   ],
   "source": [
    "df.info()"
   ]
  },
  {
   "cell_type": "code",
   "execution_count": 7,
   "id": "479b532f",
   "metadata": {},
   "outputs": [
    {
     "data": {
      "text/plain": [
       "id\n",
       "dm-test-8764fb95bfad8ee849274873a92fb8d6b400eee2     16\n",
       "dm-test-f26d8400ae49b90d109c165d0f44b8f6ca253c08     16\n",
       "dm-test-207df192edc1836250b69d1bc5b9e6a38206eb78     16\n",
       "dm-test-0f0789390d67698283cc87b2e046b5c5cd77edb7     16\n",
       "cnn-test-fbbafa743a8c2ecd2cedf65c6c61956b2db8ec5c    16\n",
       "dm-test-f37fd6e9b6cc18a7132568e307ef3b130931e809     16\n",
       "dm-test-14c813567696f4e63a39993c09d4edb454036179     16\n",
       "dm-test-e470f0a87d7513bf880412524332047020422c3f     16\n",
       "dm-test-2c37d44d03ce2e91310339d884d33ee5aabf9abc     16\n",
       "dm-test-e428e25bbf8e06643154ce31b7c6fab64c81e857     16\n",
       "Name: count, dtype: int64"
      ]
     },
     "execution_count": 7,
     "metadata": {},
     "output_type": "execute_result"
    }
   ],
   "source": [
    "df.id.value_counts(ascending=False).head(10)"
   ]
  },
  {
   "cell_type": "markdown",
   "id": "21099db0",
   "metadata": {},
   "source": [
    "# Gerando Avg summeval metrics "
   ]
  },
  {
   "cell_type": "code",
   "execution_count": 8,
   "id": "7c789fa4",
   "metadata": {},
   "outputs": [
    {
     "data": {
      "text/html": [
       "<div>\n",
       "<style scoped>\n",
       "    .dataframe tbody tr th:only-of-type {\n",
       "        vertical-align: middle;\n",
       "    }\n",
       "\n",
       "    .dataframe tbody tr th {\n",
       "        vertical-align: top;\n",
       "    }\n",
       "\n",
       "    .dataframe thead th {\n",
       "        text-align: right;\n",
       "    }\n",
       "</style>\n",
       "<table border=\"1\" class=\"dataframe\">\n",
       "  <thead>\n",
       "    <tr style=\"text-align: right;\">\n",
       "      <th></th>\n",
       "      <th>id</th>\n",
       "      <th>model_id</th>\n",
       "      <th>exp_coherence</th>\n",
       "      <th>exp_consistency</th>\n",
       "      <th>exp_fluency</th>\n",
       "      <th>exp_relevance</th>\n",
       "      <th>exp_overall_mean</th>\n",
       "      <th>turk_coherence</th>\n",
       "      <th>turk_consistency</th>\n",
       "      <th>turk_fluency</th>\n",
       "      <th>turk_relevance</th>\n",
       "      <th>turk_overall_mean</th>\n",
       "    </tr>\n",
       "  </thead>\n",
       "  <tbody>\n",
       "    <tr>\n",
       "      <th>1595</th>\n",
       "      <td>dm-test-fadabe346fe95d33eee71299e6596754768f5246</td>\n",
       "      <td>M22</td>\n",
       "      <td>3.333333</td>\n",
       "      <td>5.0</td>\n",
       "      <td>5.0</td>\n",
       "      <td>4.666667</td>\n",
       "      <td>4.500000</td>\n",
       "      <td>3.6</td>\n",
       "      <td>4.6</td>\n",
       "      <td>3.4</td>\n",
       "      <td>4.0</td>\n",
       "      <td>3.90</td>\n",
       "    </tr>\n",
       "    <tr>\n",
       "      <th>1596</th>\n",
       "      <td>dm-test-fadabe346fe95d33eee71299e6596754768f5246</td>\n",
       "      <td>M23</td>\n",
       "      <td>5.000000</td>\n",
       "      <td>5.0</td>\n",
       "      <td>5.0</td>\n",
       "      <td>5.000000</td>\n",
       "      <td>5.000000</td>\n",
       "      <td>3.8</td>\n",
       "      <td>3.6</td>\n",
       "      <td>3.6</td>\n",
       "      <td>4.0</td>\n",
       "      <td>3.75</td>\n",
       "    </tr>\n",
       "    <tr>\n",
       "      <th>1597</th>\n",
       "      <td>dm-test-fadabe346fe95d33eee71299e6596754768f5246</td>\n",
       "      <td>M5</td>\n",
       "      <td>5.000000</td>\n",
       "      <td>5.0</td>\n",
       "      <td>5.0</td>\n",
       "      <td>4.666667</td>\n",
       "      <td>4.916667</td>\n",
       "      <td>4.2</td>\n",
       "      <td>4.0</td>\n",
       "      <td>3.8</td>\n",
       "      <td>4.4</td>\n",
       "      <td>4.10</td>\n",
       "    </tr>\n",
       "    <tr>\n",
       "      <th>1598</th>\n",
       "      <td>dm-test-fadabe346fe95d33eee71299e6596754768f5246</td>\n",
       "      <td>M8</td>\n",
       "      <td>4.000000</td>\n",
       "      <td>5.0</td>\n",
       "      <td>4.0</td>\n",
       "      <td>3.666667</td>\n",
       "      <td>4.166667</td>\n",
       "      <td>4.0</td>\n",
       "      <td>5.0</td>\n",
       "      <td>4.0</td>\n",
       "      <td>5.0</td>\n",
       "      <td>4.50</td>\n",
       "    </tr>\n",
       "    <tr>\n",
       "      <th>1599</th>\n",
       "      <td>dm-test-fadabe346fe95d33eee71299e6596754768f5246</td>\n",
       "      <td>M9</td>\n",
       "      <td>3.333333</td>\n",
       "      <td>5.0</td>\n",
       "      <td>5.0</td>\n",
       "      <td>4.666667</td>\n",
       "      <td>4.500000</td>\n",
       "      <td>3.4</td>\n",
       "      <td>4.0</td>\n",
       "      <td>3.4</td>\n",
       "      <td>4.0</td>\n",
       "      <td>3.70</td>\n",
       "    </tr>\n",
       "  </tbody>\n",
       "</table>\n",
       "</div>"
      ],
      "text/plain": [
       "                                                    id model_id  \\\n",
       "1595  dm-test-fadabe346fe95d33eee71299e6596754768f5246      M22   \n",
       "1596  dm-test-fadabe346fe95d33eee71299e6596754768f5246      M23   \n",
       "1597  dm-test-fadabe346fe95d33eee71299e6596754768f5246       M5   \n",
       "1598  dm-test-fadabe346fe95d33eee71299e6596754768f5246       M8   \n",
       "1599  dm-test-fadabe346fe95d33eee71299e6596754768f5246       M9   \n",
       "\n",
       "      exp_coherence  exp_consistency  exp_fluency  exp_relevance  \\\n",
       "1595       3.333333              5.0          5.0       4.666667   \n",
       "1596       5.000000              5.0          5.0       5.000000   \n",
       "1597       5.000000              5.0          5.0       4.666667   \n",
       "1598       4.000000              5.0          4.0       3.666667   \n",
       "1599       3.333333              5.0          5.0       4.666667   \n",
       "\n",
       "      exp_overall_mean  turk_coherence  turk_consistency  turk_fluency  \\\n",
       "1595          4.500000             3.6               4.6           3.4   \n",
       "1596          5.000000             3.8               3.6           3.6   \n",
       "1597          4.916667             4.2               4.0           3.8   \n",
       "1598          4.166667             4.0               5.0           4.0   \n",
       "1599          4.500000             3.4               4.0           3.4   \n",
       "\n",
       "      turk_relevance  turk_overall_mean  \n",
       "1595             4.0               3.90  \n",
       "1596             4.0               3.75  \n",
       "1597             4.4               4.10  \n",
       "1598             5.0               4.50  \n",
       "1599             4.0               3.70  "
      ]
     },
     "execution_count": 8,
     "metadata": {},
     "output_type": "execute_result"
    }
   ],
   "source": [
    "avg_summeval_metrics = get_metrics_annotations(df)\n",
    "avg_summeval_metrics.tail()"
   ]
  },
  {
   "cell_type": "markdown",
   "id": "d2d5dfb8",
   "metadata": {},
   "source": [
    "### Prova Real\n",
    "\n",
    "* id : cnn-test-404f859482d47c127868964a9a39d1a7645dd2e9\t\n",
    "* model_id : M0"
   ]
  },
  {
   "cell_type": "code",
   "execution_count": 9,
   "id": "5d24d586",
   "metadata": {},
   "outputs": [
    {
     "data": {
      "text/html": [
       "<div>\n",
       "<style scoped>\n",
       "    .dataframe tbody tr th:only-of-type {\n",
       "        vertical-align: middle;\n",
       "    }\n",
       "\n",
       "    .dataframe tbody tr th {\n",
       "        vertical-align: top;\n",
       "    }\n",
       "\n",
       "    .dataframe thead th {\n",
       "        text-align: right;\n",
       "    }\n",
       "</style>\n",
       "<table border=\"1\" class=\"dataframe\">\n",
       "  <thead>\n",
       "    <tr style=\"text-align: right;\">\n",
       "      <th></th>\n",
       "      <th>id</th>\n",
       "      <th>model_id</th>\n",
       "      <th>exp_coherence</th>\n",
       "      <th>exp_consistency</th>\n",
       "      <th>exp_fluency</th>\n",
       "      <th>exp_relevance</th>\n",
       "      <th>exp_overall_mean</th>\n",
       "      <th>turk_coherence</th>\n",
       "      <th>turk_consistency</th>\n",
       "      <th>turk_fluency</th>\n",
       "      <th>turk_relevance</th>\n",
       "      <th>turk_overall_mean</th>\n",
       "    </tr>\n",
       "  </thead>\n",
       "  <tbody>\n",
       "    <tr>\n",
       "      <th>0</th>\n",
       "      <td>cnn-test-404f859482d47c127868964a9a39d1a7645dd2e9</td>\n",
       "      <td>M0</td>\n",
       "      <td>4.666667</td>\n",
       "      <td>4.666667</td>\n",
       "      <td>4.666667</td>\n",
       "      <td>3.0</td>\n",
       "      <td>4.25</td>\n",
       "      <td>4.6</td>\n",
       "      <td>4.2</td>\n",
       "      <td>4.2</td>\n",
       "      <td>4.6</td>\n",
       "      <td>4.4</td>\n",
       "    </tr>\n",
       "  </tbody>\n",
       "</table>\n",
       "</div>"
      ],
      "text/plain": [
       "                                                  id model_id  exp_coherence  \\\n",
       "0  cnn-test-404f859482d47c127868964a9a39d1a7645dd2e9       M0       4.666667   \n",
       "\n",
       "   exp_consistency  exp_fluency  exp_relevance  exp_overall_mean  \\\n",
       "0         4.666667     4.666667            3.0              4.25   \n",
       "\n",
       "   turk_coherence  turk_consistency  turk_fluency  turk_relevance  \\\n",
       "0             4.6               4.2           4.2             4.6   \n",
       "\n",
       "   turk_overall_mean  \n",
       "0                4.4  "
      ]
     },
     "execution_count": 9,
     "metadata": {},
     "output_type": "execute_result"
    }
   ],
   "source": [
    "avg_summeval_metrics[(avg_summeval_metrics.id == \"cnn-test-404f859482d47c127868964a9a39d1a7645dd2e9\") & (avg_summeval_metrics.model_id == \"M0\")]"
   ]
  },
  {
   "cell_type": "code",
   "execution_count": 10,
   "id": "71247dd1",
   "metadata": {},
   "outputs": [
    {
     "data": {
      "text/plain": [
       "[{'coherence': 5, 'consistency': 5, 'fluency': 5, 'relevance': 2},\n",
       " {'coherence': 5, 'consistency': 5, 'fluency': 5, 'relevance': 4},\n",
       " {'coherence': 4, 'consistency': 4, 'fluency': 4, 'relevance': 3}]"
      ]
     },
     "execution_count": 10,
     "metadata": {},
     "output_type": "execute_result"
    }
   ],
   "source": [
    "df.loc[1499,\"expert_annotations\"]"
   ]
  },
  {
   "cell_type": "markdown",
   "id": "9829dd3f",
   "metadata": {},
   "source": [
    "* Coherence = 4.66\n",
    "* Consistency = 4.66\n",
    "* Fluency = 4.66\n",
    "* Relevance = 3"
   ]
  },
  {
   "cell_type": "code",
   "execution_count": 11,
   "id": "5fab2e93",
   "metadata": {},
   "outputs": [
    {
     "data": {
      "text/plain": [
       "[{'coherence': 5, 'consistency': 5, 'fluency': 5, 'relevance': 5},\n",
       " {'coherence': 4, 'consistency': 5, 'fluency': 4, 'relevance': 5},\n",
       " {'coherence': 5, 'consistency': 5, 'fluency': 5, 'relevance': 4},\n",
       " {'coherence': 4, 'consistency': 3, 'fluency': 2, 'relevance': 4},\n",
       " {'coherence': 5, 'consistency': 3, 'fluency': 5, 'relevance': 5}]"
      ]
     },
     "execution_count": 11,
     "metadata": {},
     "output_type": "execute_result"
    }
   ],
   "source": [
    "df.loc[1499,\"turker_annotations\"]"
   ]
  },
  {
   "cell_type": "markdown",
   "id": "46988a20",
   "metadata": {},
   "source": [
    "* Coherence = 4.6\n",
    "* Consistency = 4.2\n",
    "* Fluency = 4.2\n",
    "* Relevance = 4.6"
   ]
  },
  {
   "cell_type": "markdown",
   "id": "e39d74da",
   "metadata": {},
   "source": [
    "# pyAutoSummarizer"
   ]
  },
  {
   "cell_type": "markdown",
   "id": "973ffe07",
   "metadata": {},
   "source": [
    "## Get Summary Evaluation"
   ]
  },
  {
   "cell_type": "markdown",
   "id": "32bcff57",
   "metadata": {},
   "source": [
    "### Exemplo Pontual"
   ]
  },
  {
   "cell_type": "code",
   "execution_count": 12,
   "id": "f69e7783",
   "metadata": {},
   "outputs": [],
   "source": [
    "referencia = \"A energia solar usa a luz do sol para produzir eletricidade ou calor, e seu uso crescente ajuda a reduzir custos e emissões, promovendo uma matriz energética mais diversificada.\"\n",
    "gerado = \"A energia solar, que transforma luz solar em eletricidade, tem se tornado mais popular por ser limpa, barata e ajudar no meio ambiente.\"\n"
   ]
  },
  {
   "cell_type": "code",
   "execution_count": 13,
   "id": "663184d8",
   "metadata": {},
   "outputs": [],
   "source": [
    "resultados =get_summary_evaluation(\n",
    "    reference_summary=referencia,\n",
    "    generated_summary=gerado,\n",
    "    evaluators=lexical_eval\n",
    ")"
   ]
  },
  {
   "cell_type": "code",
   "execution_count": 14,
   "id": "0e403406",
   "metadata": {},
   "outputs": [
    {
     "data": {
      "text/plain": [
       "{'rouge1_f1': 0.25925925925925924,\n",
       " 'rougeL_f1': 0.2222222222222222,\n",
       " 'bleu': 0.02644168646195725}"
      ]
     },
     "execution_count": 14,
     "metadata": {},
     "output_type": "execute_result"
    }
   ],
   "source": [
    "resultados"
   ]
  },
  {
   "cell_type": "markdown",
   "id": "645cbfbc",
   "metadata": {},
   "source": [
    "### Exemplo Pontual - usando dados da Base SummEval"
   ]
  },
  {
   "cell_type": "code",
   "execution_count": 15,
   "id": "f6b43df6",
   "metadata": {},
   "outputs": [
    {
     "name": "stdout",
     "output_type": "stream",
     "text": [
      "paul merson was brought on with only seven minutes remaining in his team 's 0-0 draw with burnley . andros townsend scored the tottenham midfielder in the 89th minute . paul merson had another dig at andros townsend after his appearance . the midfielder had been brought on to the england squad last week . click here for all the latest arsenal news news .\n"
     ]
    }
   ],
   "source": [
    "gerado_summeval_0 = df.loc[0,\"decoded\"]\n",
    "print(gerado_summeval_0)"
   ]
  },
  {
   "cell_type": "code",
   "execution_count": 16,
   "id": "4e236e93",
   "metadata": {},
   "outputs": [
    {
     "name": "stdout",
     "output_type": "stream",
     "text": [
      "Andros Townsend an 83rd minute sub in Tottenham's draw with Burnley. He was unable to find a winner as the game ended without a goal. Townsend had clashed with Paul Merson last week over England call-up.\n"
     ]
    }
   ],
   "source": [
    "reference_summeval_0 = df.loc[0,\"references\"][0]\n",
    "print(reference_summeval_0)"
   ]
  },
  {
   "cell_type": "code",
   "execution_count": 17,
   "id": "e3724803",
   "metadata": {},
   "outputs": [],
   "source": [
    "resultados =get_summary_evaluation(\n",
    "    reference_summary=reference_summeval_0,\n",
    "    generated_summary=gerado_summeval_0,\n",
    "    evaluators=lexical_eval\n",
    ")"
   ]
  },
  {
   "cell_type": "code",
   "execution_count": 18,
   "id": "20e32707",
   "metadata": {},
   "outputs": [
    {
     "data": {
      "text/plain": [
       "{'rouge1_f1': 0.404040404040404,\n",
       " 'rougeL_f1': 0.22222222222222224,\n",
       " 'bleu': 0.01853267661331109}"
      ]
     },
     "execution_count": 18,
     "metadata": {},
     "output_type": "execute_result"
    }
   ],
   "source": [
    "resultados"
   ]
  },
  {
   "cell_type": "markdown",
   "id": "2c7ad7aa",
   "metadata": {},
   "source": [
    "# Gerando Avg Evaluator Metrics"
   ]
  },
  {
   "cell_type": "code",
   "execution_count": 19,
   "id": "9f462c8b",
   "metadata": {},
   "outputs": [
    {
     "data": {
      "text/html": [
       "<div>\n",
       "<style scoped>\n",
       "    .dataframe tbody tr th:only-of-type {\n",
       "        vertical-align: middle;\n",
       "    }\n",
       "\n",
       "    .dataframe tbody tr th {\n",
       "        vertical-align: top;\n",
       "    }\n",
       "\n",
       "    .dataframe thead th {\n",
       "        text-align: right;\n",
       "    }\n",
       "</style>\n",
       "<table border=\"1\" class=\"dataframe\">\n",
       "  <thead>\n",
       "    <tr style=\"text-align: right;\">\n",
       "      <th></th>\n",
       "      <th>id</th>\n",
       "      <th>decoded</th>\n",
       "      <th>expert_annotations</th>\n",
       "      <th>turker_annotations</th>\n",
       "      <th>references</th>\n",
       "      <th>model_id</th>\n",
       "      <th>filepath</th>\n",
       "    </tr>\n",
       "  </thead>\n",
       "  <tbody>\n",
       "    <tr>\n",
       "      <th>0</th>\n",
       "      <td>dm-test-8764fb95bfad8ee849274873a92fb8d6b400eee2</td>\n",
       "      <td>paul merson was brought on with only seven min...</td>\n",
       "      <td>[{'coherence': 2, 'consistency': 1, 'fluency':...</td>\n",
       "      <td>[{'coherence': 3, 'consistency': 3, 'fluency':...</td>\n",
       "      <td>[Andros Townsend an 83rd minute sub in Tottenh...</td>\n",
       "      <td>M11</td>\n",
       "      <td>cnndm/dailymail/stories/8764fb95bfad8ee8492748...</td>\n",
       "    </tr>\n",
       "    <tr>\n",
       "      <th>1</th>\n",
       "      <td>dm-test-8764fb95bfad8ee849274873a92fb8d6b400eee2</td>\n",
       "      <td>paul merson has restarted his row with andros ...</td>\n",
       "      <td>[{'coherence': 3, 'consistency': 5, 'fluency':...</td>\n",
       "      <td>[{'coherence': 2, 'consistency': 3, 'fluency':...</td>\n",
       "      <td>[Andros Townsend an 83rd minute sub in Tottenh...</td>\n",
       "      <td>M13</td>\n",
       "      <td>cnndm/dailymail/stories/8764fb95bfad8ee8492748...</td>\n",
       "    </tr>\n",
       "  </tbody>\n",
       "</table>\n",
       "</div>"
      ],
      "text/plain": [
       "                                                 id  \\\n",
       "0  dm-test-8764fb95bfad8ee849274873a92fb8d6b400eee2   \n",
       "1  dm-test-8764fb95bfad8ee849274873a92fb8d6b400eee2   \n",
       "\n",
       "                                             decoded  \\\n",
       "0  paul merson was brought on with only seven min...   \n",
       "1  paul merson has restarted his row with andros ...   \n",
       "\n",
       "                                  expert_annotations  \\\n",
       "0  [{'coherence': 2, 'consistency': 1, 'fluency':...   \n",
       "1  [{'coherence': 3, 'consistency': 5, 'fluency':...   \n",
       "\n",
       "                                  turker_annotations  \\\n",
       "0  [{'coherence': 3, 'consistency': 3, 'fluency':...   \n",
       "1  [{'coherence': 2, 'consistency': 3, 'fluency':...   \n",
       "\n",
       "                                          references model_id  \\\n",
       "0  [Andros Townsend an 83rd minute sub in Tottenh...      M11   \n",
       "1  [Andros Townsend an 83rd minute sub in Tottenh...      M13   \n",
       "\n",
       "                                            filepath  \n",
       "0  cnndm/dailymail/stories/8764fb95bfad8ee8492748...  \n",
       "1  cnndm/dailymail/stories/8764fb95bfad8ee8492748...  "
      ]
     },
     "execution_count": 19,
     "metadata": {},
     "output_type": "execute_result"
    }
   ],
   "source": [
    "df.head(2)"
   ]
  },
  {
   "cell_type": "code",
   "execution_count": 20,
   "id": "7daf9153",
   "metadata": {},
   "outputs": [
    {
     "name": "stderr",
     "output_type": "stream",
     "text": [
      "100%|██████████| 33/33 [00:00<00:00, 321.41it/s]\n",
      "100%|██████████| 33/33 [01:13<00:00,  2.24s/it]\n"
     ]
    }
   ],
   "source": [
    "df_agg_lexical = get_metrics_evaluator(df.head(3),lexical_eval , LEXICAL_PREFIX)\n",
    "df_agg_semantic= get_metrics_evaluator(df.head(3),semantic_eval , SEMANTIC_PREFIX )"
   ]
  },
  {
   "cell_type": "code",
   "execution_count": 21,
   "id": "503ae50a",
   "metadata": {},
   "outputs": [],
   "source": [
    "df_agg = pd.merge(df_agg_lexical, df_agg_semantic, on= JOIN_COLS)"
   ]
  },
  {
   "cell_type": "code",
   "execution_count": 22,
   "id": "2270a34c",
   "metadata": {},
   "outputs": [
    {
     "data": {
      "text/html": [
       "<div>\n",
       "<style scoped>\n",
       "    .dataframe tbody tr th:only-of-type {\n",
       "        vertical-align: middle;\n",
       "    }\n",
       "\n",
       "    .dataframe tbody tr th {\n",
       "        vertical-align: top;\n",
       "    }\n",
       "\n",
       "    .dataframe thead th {\n",
       "        text-align: right;\n",
       "    }\n",
       "</style>\n",
       "<table border=\"1\" class=\"dataframe\">\n",
       "  <thead>\n",
       "    <tr style=\"text-align: right;\">\n",
       "      <th></th>\n",
       "      <th>id</th>\n",
       "      <th>model_id</th>\n",
       "      <th>lexical_rouge1_f1</th>\n",
       "      <th>lexical_rougeL_f1</th>\n",
       "      <th>lexical_bleu</th>\n",
       "      <th>lexical_overall_mean</th>\n",
       "      <th>semantic_bert_score_precision</th>\n",
       "      <th>semantic_bert_score_recall</th>\n",
       "      <th>semantic_bert_score_f1</th>\n",
       "      <th>semantic_overall_mean</th>\n",
       "    </tr>\n",
       "  </thead>\n",
       "  <tbody>\n",
       "    <tr>\n",
       "      <th>0</th>\n",
       "      <td>dm-test-8764fb95bfad8ee849274873a92fb8d6b400eee2</td>\n",
       "      <td>M1</td>\n",
       "      <td>0.292654</td>\n",
       "      <td>0.200857</td>\n",
       "      <td>0.010909</td>\n",
       "      <td>0.168140</td>\n",
       "      <td>0.124940</td>\n",
       "      <td>-0.114202</td>\n",
       "      <td>0.003692</td>\n",
       "      <td>0.00481</td>\n",
       "    </tr>\n",
       "    <tr>\n",
       "      <th>1</th>\n",
       "      <td>dm-test-8764fb95bfad8ee849274873a92fb8d6b400eee2</td>\n",
       "      <td>M11</td>\n",
       "      <td>0.303723</td>\n",
       "      <td>0.191623</td>\n",
       "      <td>0.011550</td>\n",
       "      <td>0.168965</td>\n",
       "      <td>0.125775</td>\n",
       "      <td>-0.147368</td>\n",
       "      <td>-0.013298</td>\n",
       "      <td>-0.01163</td>\n",
       "    </tr>\n",
       "  </tbody>\n",
       "</table>\n",
       "</div>"
      ],
      "text/plain": [
       "                                                 id model_id  \\\n",
       "0  dm-test-8764fb95bfad8ee849274873a92fb8d6b400eee2       M1   \n",
       "1  dm-test-8764fb95bfad8ee849274873a92fb8d6b400eee2      M11   \n",
       "\n",
       "   lexical_rouge1_f1  lexical_rougeL_f1  lexical_bleu  lexical_overall_mean  \\\n",
       "0           0.292654           0.200857      0.010909              0.168140   \n",
       "1           0.303723           0.191623      0.011550              0.168965   \n",
       "\n",
       "   semantic_bert_score_precision  semantic_bert_score_recall  \\\n",
       "0                       0.124940                   -0.114202   \n",
       "1                       0.125775                   -0.147368   \n",
       "\n",
       "   semantic_bert_score_f1  semantic_overall_mean  \n",
       "0                0.003692                0.00481  \n",
       "1               -0.013298               -0.01163  "
      ]
     },
     "execution_count": 22,
     "metadata": {},
     "output_type": "execute_result"
    }
   ],
   "source": [
    "df_agg.head(2)"
   ]
  },
  {
   "cell_type": "markdown",
   "id": "5d43818a",
   "metadata": {},
   "source": [
    "# Gerando Metrics Frame"
   ]
  },
  {
   "cell_type": "code",
   "execution_count": null,
   "id": "477ab6d6",
   "metadata": {},
   "outputs": [],
   "source": [
    "from research.src.functions import get_combinated_metric\n"
   ]
  },
  {
   "cell_type": "code",
   "execution_count": 35,
   "id": "d0271f9a",
   "metadata": {},
   "outputs": [],
   "source": [
    "metrics_frame = get_combinated_metric(avg_summeval_metrics, df_agg, JOIN_COLS)"
   ]
  },
  {
   "cell_type": "code",
   "execution_count": 45,
   "id": "1d179154",
   "metadata": {},
   "outputs": [
    {
     "data": {
      "text/html": [
       "<div>\n",
       "<style scoped>\n",
       "    .dataframe tbody tr th:only-of-type {\n",
       "        vertical-align: middle;\n",
       "    }\n",
       "\n",
       "    .dataframe tbody tr th {\n",
       "        vertical-align: top;\n",
       "    }\n",
       "\n",
       "    .dataframe thead th {\n",
       "        text-align: right;\n",
       "    }\n",
       "</style>\n",
       "<table border=\"1\" class=\"dataframe\">\n",
       "  <thead>\n",
       "    <tr style=\"text-align: right;\">\n",
       "      <th></th>\n",
       "      <th>id</th>\n",
       "      <th>model_id</th>\n",
       "      <th>new_metric_col</th>\n",
       "    </tr>\n",
       "  </thead>\n",
       "  <tbody>\n",
       "    <tr>\n",
       "      <th>0</th>\n",
       "      <td>dm-test-8764fb95bfad8ee849274873a92fb8d6b400eee2</td>\n",
       "      <td>M1</td>\n",
       "      <td>0.086475</td>\n",
       "    </tr>\n",
       "    <tr>\n",
       "      <th>1</th>\n",
       "      <td>dm-test-8764fb95bfad8ee849274873a92fb8d6b400eee2</td>\n",
       "      <td>M11</td>\n",
       "      <td>0.078667</td>\n",
       "    </tr>\n",
       "    <tr>\n",
       "      <th>2</th>\n",
       "      <td>dm-test-8764fb95bfad8ee849274873a92fb8d6b400eee2</td>\n",
       "      <td>M13</td>\n",
       "      <td>0.070931</td>\n",
       "    </tr>\n",
       "  </tbody>\n",
       "</table>\n",
       "</div>"
      ],
      "text/plain": [
       "                                                 id model_id  new_metric_col\n",
       "0  dm-test-8764fb95bfad8ee849274873a92fb8d6b400eee2       M1        0.086475\n",
       "1  dm-test-8764fb95bfad8ee849274873a92fb8d6b400eee2      M11        0.078667\n",
       "2  dm-test-8764fb95bfad8ee849274873a92fb8d6b400eee2      M13        0.070931"
      ]
     },
     "execution_count": 45,
     "metadata": {},
     "output_type": "execute_result"
    }
   ],
   "source": [
    "metrics_frame[JOIN_COLS + [NEW_METRIC_COL]]"
   ]
  },
  {
   "cell_type": "markdown",
   "id": "99821911",
   "metadata": {},
   "source": [
    "# Gerando Correlation Frame"
   ]
  },
  {
   "cell_type": "code",
   "execution_count": 26,
   "id": "d10f9f0a",
   "metadata": {},
   "outputs": [],
   "source": [
    "\n",
    "\n",
    "\n",
    "correlation_table = get_corr(metrics_frame, eval_cols, human_cols,  methods)"
   ]
  },
  {
   "cell_type": "code",
   "execution_count": 27,
   "id": "39add9cd",
   "metadata": {},
   "outputs": [
    {
     "data": {
      "text/html": [
       "<div>\n",
       "<style scoped>\n",
       "    .dataframe tbody tr th:only-of-type {\n",
       "        vertical-align: middle;\n",
       "    }\n",
       "\n",
       "    .dataframe tbody tr th {\n",
       "        vertical-align: top;\n",
       "    }\n",
       "\n",
       "    .dataframe thead th {\n",
       "        text-align: right;\n",
       "    }\n",
       "</style>\n",
       "<table border=\"1\" class=\"dataframe\">\n",
       "  <thead>\n",
       "    <tr style=\"text-align: right;\">\n",
       "      <th></th>\n",
       "      <th>exp_coherence</th>\n",
       "      <th>exp_consistency</th>\n",
       "      <th>exp_fluency</th>\n",
       "      <th>exp_relevance</th>\n",
       "      <th>exp_overall_mean</th>\n",
       "    </tr>\n",
       "  </thead>\n",
       "  <tbody>\n",
       "    <tr>\n",
       "      <th>lexical_rouge1_f1</th>\n",
       "      <td>-0.866025</td>\n",
       "      <td>-0.866025</td>\n",
       "      <td>-0.866025</td>\n",
       "      <td>-0.866025</td>\n",
       "      <td>-0.866025</td>\n",
       "    </tr>\n",
       "    <tr>\n",
       "      <th>lexical_rougeL_f1</th>\n",
       "      <td>0.866025</td>\n",
       "      <td>0.866025</td>\n",
       "      <td>0.866025</td>\n",
       "      <td>0.866025</td>\n",
       "      <td>0.866025</td>\n",
       "    </tr>\n",
       "    <tr>\n",
       "      <th>lexical_bleu</th>\n",
       "      <td>0.000000</td>\n",
       "      <td>0.000000</td>\n",
       "      <td>0.000000</td>\n",
       "      <td>0.000000</td>\n",
       "      <td>0.000000</td>\n",
       "    </tr>\n",
       "    <tr>\n",
       "      <th>lexical_overall_mean</th>\n",
       "      <td>-0.866025</td>\n",
       "      <td>-0.866025</td>\n",
       "      <td>-0.866025</td>\n",
       "      <td>-0.866025</td>\n",
       "      <td>-0.866025</td>\n",
       "    </tr>\n",
       "    <tr>\n",
       "      <th>semantic_bert_score_precision</th>\n",
       "      <td>-0.866025</td>\n",
       "      <td>-0.866025</td>\n",
       "      <td>-0.866025</td>\n",
       "      <td>-0.866025</td>\n",
       "      <td>-0.866025</td>\n",
       "    </tr>\n",
       "    <tr>\n",
       "      <th>semantic_bert_score_recall</th>\n",
       "      <td>0.000000</td>\n",
       "      <td>0.000000</td>\n",
       "      <td>0.000000</td>\n",
       "      <td>0.000000</td>\n",
       "      <td>0.000000</td>\n",
       "    </tr>\n",
       "    <tr>\n",
       "      <th>semantic_bert_score_f1</th>\n",
       "      <td>0.000000</td>\n",
       "      <td>0.000000</td>\n",
       "      <td>0.000000</td>\n",
       "      <td>0.000000</td>\n",
       "      <td>0.000000</td>\n",
       "    </tr>\n",
       "    <tr>\n",
       "      <th>semantic_overall_mean</th>\n",
       "      <td>0.000000</td>\n",
       "      <td>0.000000</td>\n",
       "      <td>0.000000</td>\n",
       "      <td>0.000000</td>\n",
       "      <td>0.000000</td>\n",
       "    </tr>\n",
       "    <tr>\n",
       "      <th>new_metric_col</th>\n",
       "      <td>0.000000</td>\n",
       "      <td>0.000000</td>\n",
       "      <td>0.000000</td>\n",
       "      <td>0.000000</td>\n",
       "      <td>0.000000</td>\n",
       "    </tr>\n",
       "  </tbody>\n",
       "</table>\n",
       "</div>"
      ],
      "text/plain": [
       "                               exp_coherence  exp_consistency  exp_fluency  \\\n",
       "lexical_rouge1_f1                  -0.866025        -0.866025    -0.866025   \n",
       "lexical_rougeL_f1                   0.866025         0.866025     0.866025   \n",
       "lexical_bleu                        0.000000         0.000000     0.000000   \n",
       "lexical_overall_mean               -0.866025        -0.866025    -0.866025   \n",
       "semantic_bert_score_precision      -0.866025        -0.866025    -0.866025   \n",
       "semantic_bert_score_recall          0.000000         0.000000     0.000000   \n",
       "semantic_bert_score_f1              0.000000         0.000000     0.000000   \n",
       "semantic_overall_mean               0.000000         0.000000     0.000000   \n",
       "new_metric_col                      0.000000         0.000000     0.000000   \n",
       "\n",
       "                               exp_relevance  exp_overall_mean  \n",
       "lexical_rouge1_f1                  -0.866025         -0.866025  \n",
       "lexical_rougeL_f1                   0.866025          0.866025  \n",
       "lexical_bleu                        0.000000          0.000000  \n",
       "lexical_overall_mean               -0.866025         -0.866025  \n",
       "semantic_bert_score_precision      -0.866025         -0.866025  \n",
       "semantic_bert_score_recall          0.000000          0.000000  \n",
       "semantic_bert_score_f1              0.000000          0.000000  \n",
       "semantic_overall_mean               0.000000          0.000000  \n",
       "new_metric_col                      0.000000          0.000000  "
      ]
     },
     "execution_count": 27,
     "metadata": {},
     "output_type": "execute_result"
    }
   ],
   "source": [
    "correlation_table"
   ]
  },
  {
   "cell_type": "markdown",
   "id": "ea7e4a3d",
   "metadata": {},
   "source": [
    "# Gerando Final_Corr"
   ]
  },
  {
   "cell_type": "code",
   "execution_count": 31,
   "id": "a6785722",
   "metadata": {},
   "outputs": [
    {
     "name": "stdout",
     "output_type": "stream",
     "text": [
      "0.0\n"
     ]
    }
   ],
   "source": [
    "FINAL_CORR = correlation_table.loc[NEW_METRIC_COL,FINAL_METRIC]\n",
    "print(FINAL_CORR)"
   ]
  }
 ],
 "metadata": {
  "kernelspec": {
   "display_name": ".venv",
   "language": "python",
   "name": "python3"
  },
  "language_info": {
   "codemirror_mode": {
    "name": "ipython",
    "version": 3
   },
   "file_extension": ".py",
   "mimetype": "text/x-python",
   "name": "python",
   "nbconvert_exporter": "python",
   "pygments_lexer": "ipython3",
   "version": "3.9.13"
  }
 },
 "nbformat": 4,
 "nbformat_minor": 5
}
