{
 "cells": [
  {
   "cell_type": "markdown",
   "id": "c57af217",
   "metadata": {},
   "source": [
    "* 1 abrir base de dados summeval\n",
    "    - Trazer uma visão de como funcionam os dados em summeval, informações sobre cada coluna e estatísticas básicas\n",
    "* 2 carregar pyautosummarizer\n",
    "    - Testar summarização básica\n",
    "    - importar MSL, MSS e MF (ainda não estão implementados)\n",
    "* 3- utilizar métrica de pyautosummarizer para avaliar summeval\n",
    "* 4- Criar métrica composta com pesos livres de avaliação"
   ]
  },
  {
   "cell_type": "code",
   "execution_count": null,
   "id": "835190e6",
   "metadata": {},
   "outputs": [
    {
     "name": "stdout",
     "output_type": "stream",
     "text": [
      "The autoreload extension is already loaded. To reload it, use:\n",
      "  %reload_ext autoreload\n"
     ]
    }
   ],
   "source": [
    "%load_ext autoreload\n",
    "%autoreload 2"
   ]
  },
  {
   "cell_type": "markdown",
   "id": "cafc3450",
   "metadata": {},
   "source": [
    "# SummEval"
   ]
  },
  {
   "cell_type": "markdown",
   "id": "f7733039",
   "metadata": {},
   "source": [
    "* id: Identificador único da instância (string), ex. dm-test-…, usado para rastreamento.\n",
    "\n",
    "* decoded: Sumário gerado pelo modelo (string), é a saída a ser avaliada.\n",
    "\n",
    "* expert_annotations: Lista de dicionários com notas de especialistas (coherence, consistency, fluency, relevance).\n",
    "\n",
    "* turker_annotations: Lista de dicionários com notas crowdsourced nos mesmos critérios dos experts.\n",
    "\n",
    "* references: Lista de sumários humanos de referência (strings) para comparação automática.\n",
    "\n",
    "* model_id: Código do modelo que produziu decoded (string), ex. M11.\n",
    "\n",
    "* filepath: Caminho do arquivo de origem do documento completo (string)."
   ]
  },
  {
   "cell_type": "markdown",
   "id": "81590180",
   "metadata": {},
   "source": [
    "## 1.1 Carregando os Dados"
   ]
  },
  {
   "cell_type": "code",
   "execution_count": 4,
   "id": "d40dfe57",
   "metadata": {},
   "outputs": [],
   "source": [
    "# 1. Exploração da base SummEval\n",
    "\n",
    "# 1.1. Imports básicos\n",
    "import pandas as pd\n",
    "\n",
    "# # 1.2. Carregar os dados (ajuste o caminho para onde você salvou o arquivo)\n",
    "df = pd.read_json(\"../data/model_annotations.aligned.jsonl\", lines=True)\n"
   ]
  },
  {
   "cell_type": "code",
   "execution_count": 5,
   "id": "e9861a0c",
   "metadata": {},
   "outputs": [
    {
     "data": {
      "text/html": [
       "<div>\n",
       "<style scoped>\n",
       "    .dataframe tbody tr th:only-of-type {\n",
       "        vertical-align: middle;\n",
       "    }\n",
       "\n",
       "    .dataframe tbody tr th {\n",
       "        vertical-align: top;\n",
       "    }\n",
       "\n",
       "    .dataframe thead th {\n",
       "        text-align: right;\n",
       "    }\n",
       "</style>\n",
       "<table border=\"1\" class=\"dataframe\">\n",
       "  <thead>\n",
       "    <tr style=\"text-align: right;\">\n",
       "      <th></th>\n",
       "      <th>id</th>\n",
       "      <th>decoded</th>\n",
       "      <th>expert_annotations</th>\n",
       "      <th>turker_annotations</th>\n",
       "      <th>references</th>\n",
       "      <th>model_id</th>\n",
       "      <th>filepath</th>\n",
       "    </tr>\n",
       "  </thead>\n",
       "  <tbody>\n",
       "    <tr>\n",
       "      <th>1595</th>\n",
       "      <td>dm-test-e880fda4c25289f8325574246f0f8ed4ff5eb26b</td>\n",
       "      <td>a timewarp home which has remained unchanged s...</td>\n",
       "      <td>[{'coherence': 5, 'consistency': 5, 'fluency':...</td>\n",
       "      <td>[{'coherence': 4, 'consistency': 3, 'fluency':...</td>\n",
       "      <td>[Nondescript semi-detached home for sale in Ho...</td>\n",
       "      <td>M0</td>\n",
       "      <td>cnndm/dailymail/stories/e880fda4c25289f8325574...</td>\n",
       "    </tr>\n",
       "    <tr>\n",
       "      <th>1596</th>\n",
       "      <td>dm-test-e880fda4c25289f8325574246f0f8ed4ff5eb26b</td>\n",
       "      <td>The collector 's paradise in Horfield , Bristo...</td>\n",
       "      <td>[{'coherence': 3, 'consistency': 5, 'fluency':...</td>\n",
       "      <td>[{'coherence': 4, 'consistency': 4, 'fluency':...</td>\n",
       "      <td>[Nondescript semi-detached home for sale in Ho...</td>\n",
       "      <td>M22</td>\n",
       "      <td>cnndm/dailymail/stories/e880fda4c25289f8325574...</td>\n",
       "    </tr>\n",
       "    <tr>\n",
       "      <th>1597</th>\n",
       "      <td>dm-test-e880fda4c25289f8325574246f0f8ed4ff5eb26b</td>\n",
       "      <td>the collector’s paradise in horfield , bristol...</td>\n",
       "      <td>[{'coherence': 5, 'consistency': 5, 'fluency':...</td>\n",
       "      <td>[{'coherence': 4, 'consistency': 4, 'fluency':...</td>\n",
       "      <td>[Nondescript semi-detached home for sale in Ho...</td>\n",
       "      <td>M8</td>\n",
       "      <td>cnndm/dailymail/stories/e880fda4c25289f8325574...</td>\n",
       "    </tr>\n",
       "    <tr>\n",
       "      <th>1598</th>\n",
       "      <td>dm-test-e880fda4c25289f8325574246f0f8ed4ff5eb26b</td>\n",
       "      <td>the collector 's paradise in horfield , bristo...</td>\n",
       "      <td>[{'coherence': 3, 'consistency': 5, 'fluency':...</td>\n",
       "      <td>[{'coherence': 4, 'consistency': 3, 'fluency':...</td>\n",
       "      <td>[Nondescript semi-detached home for sale in Ho...</td>\n",
       "      <td>M10</td>\n",
       "      <td>cnndm/dailymail/stories/e880fda4c25289f8325574...</td>\n",
       "    </tr>\n",
       "    <tr>\n",
       "      <th>1599</th>\n",
       "      <td>dm-test-e880fda4c25289f8325574246f0f8ed4ff5eb26b</td>\n",
       "      <td>the timewarp home has remained unchanged since...</td>\n",
       "      <td>[{'coherence': 3, 'consistency': 5, 'fluency':...</td>\n",
       "      <td>[{'coherence': 4, 'consistency': 3, 'fluency':...</td>\n",
       "      <td>[Nondescript semi-detached home for sale in Ho...</td>\n",
       "      <td>M9</td>\n",
       "      <td>cnndm/dailymail/stories/e880fda4c25289f8325574...</td>\n",
       "    </tr>\n",
       "  </tbody>\n",
       "</table>\n",
       "</div>"
      ],
      "text/plain": [
       "                                                    id  \\\n",
       "1595  dm-test-e880fda4c25289f8325574246f0f8ed4ff5eb26b   \n",
       "1596  dm-test-e880fda4c25289f8325574246f0f8ed4ff5eb26b   \n",
       "1597  dm-test-e880fda4c25289f8325574246f0f8ed4ff5eb26b   \n",
       "1598  dm-test-e880fda4c25289f8325574246f0f8ed4ff5eb26b   \n",
       "1599  dm-test-e880fda4c25289f8325574246f0f8ed4ff5eb26b   \n",
       "\n",
       "                                                decoded  \\\n",
       "1595  a timewarp home which has remained unchanged s...   \n",
       "1596  The collector 's paradise in Horfield , Bristo...   \n",
       "1597  the collector’s paradise in horfield , bristol...   \n",
       "1598  the collector 's paradise in horfield , bristo...   \n",
       "1599  the timewarp home has remained unchanged since...   \n",
       "\n",
       "                                     expert_annotations  \\\n",
       "1595  [{'coherence': 5, 'consistency': 5, 'fluency':...   \n",
       "1596  [{'coherence': 3, 'consistency': 5, 'fluency':...   \n",
       "1597  [{'coherence': 5, 'consistency': 5, 'fluency':...   \n",
       "1598  [{'coherence': 3, 'consistency': 5, 'fluency':...   \n",
       "1599  [{'coherence': 3, 'consistency': 5, 'fluency':...   \n",
       "\n",
       "                                     turker_annotations  \\\n",
       "1595  [{'coherence': 4, 'consistency': 3, 'fluency':...   \n",
       "1596  [{'coherence': 4, 'consistency': 4, 'fluency':...   \n",
       "1597  [{'coherence': 4, 'consistency': 4, 'fluency':...   \n",
       "1598  [{'coherence': 4, 'consistency': 3, 'fluency':...   \n",
       "1599  [{'coherence': 4, 'consistency': 3, 'fluency':...   \n",
       "\n",
       "                                             references model_id  \\\n",
       "1595  [Nondescript semi-detached home for sale in Ho...       M0   \n",
       "1596  [Nondescript semi-detached home for sale in Ho...      M22   \n",
       "1597  [Nondescript semi-detached home for sale in Ho...       M8   \n",
       "1598  [Nondescript semi-detached home for sale in Ho...      M10   \n",
       "1599  [Nondescript semi-detached home for sale in Ho...       M9   \n",
       "\n",
       "                                               filepath  \n",
       "1595  cnndm/dailymail/stories/e880fda4c25289f8325574...  \n",
       "1596  cnndm/dailymail/stories/e880fda4c25289f8325574...  \n",
       "1597  cnndm/dailymail/stories/e880fda4c25289f8325574...  \n",
       "1598  cnndm/dailymail/stories/e880fda4c25289f8325574...  \n",
       "1599  cnndm/dailymail/stories/e880fda4c25289f8325574...  "
      ]
     },
     "execution_count": 5,
     "metadata": {},
     "output_type": "execute_result"
    }
   ],
   "source": [
    "df.tail()"
   ]
  },
  {
   "cell_type": "markdown",
   "id": "8d5df60e",
   "metadata": {},
   "source": [
    "## 1.2 Análise Individual"
   ]
  },
  {
   "cell_type": "code",
   "execution_count": 6,
   "id": "45052e3b",
   "metadata": {},
   "outputs": [
    {
     "data": {
      "text/plain": [
       "id                     dm-test-8764fb95bfad8ee849274873a92fb8d6b400eee2\n",
       "decoded               paul merson was brought on with only seven min...\n",
       "expert_annotations    [{'coherence': 2, 'consistency': 1, 'fluency':...\n",
       "turker_annotations    [{'coherence': 3, 'consistency': 3, 'fluency':...\n",
       "references            [Andros Townsend an 83rd minute sub in Tottenh...\n",
       "model_id                                                            M11\n",
       "filepath              cnndm/dailymail/stories/8764fb95bfad8ee8492748...\n",
       "Name: 0, dtype: object"
      ]
     },
     "execution_count": 6,
     "metadata": {},
     "output_type": "execute_result"
    }
   ],
   "source": [
    "df.loc[0]"
   ]
  },
  {
   "cell_type": "markdown",
   "id": "1eb1f66f",
   "metadata": {},
   "source": [
    "## 1.3. Inspeção de tipos e não-nulos"
   ]
  },
  {
   "cell_type": "code",
   "execution_count": 7,
   "id": "61be8e95",
   "metadata": {},
   "outputs": [
    {
     "name": "stdout",
     "output_type": "stream",
     "text": [
      "<class 'pandas.core.frame.DataFrame'>\n",
      "RangeIndex: 1600 entries, 0 to 1599\n",
      "Data columns (total 7 columns):\n",
      " #   Column              Non-Null Count  Dtype \n",
      "---  ------              --------------  ----- \n",
      " 0   id                  1600 non-null   object\n",
      " 1   decoded             1600 non-null   object\n",
      " 2   expert_annotations  1600 non-null   object\n",
      " 3   turker_annotations  1600 non-null   object\n",
      " 4   references          1600 non-null   object\n",
      " 5   model_id            1600 non-null   object\n",
      " 6   filepath            1600 non-null   object\n",
      "dtypes: object(7)\n",
      "memory usage: 87.6+ KB\n"
     ]
    }
   ],
   "source": [
    "df.info()"
   ]
  },
  {
   "cell_type": "code",
   "execution_count": 8,
   "id": "479b532f",
   "metadata": {},
   "outputs": [
    {
     "data": {
      "text/plain": [
       "id\n",
       "dm-test-8764fb95bfad8ee849274873a92fb8d6b400eee2     16\n",
       "dm-test-f26d8400ae49b90d109c165d0f44b8f6ca253c08     16\n",
       "dm-test-207df192edc1836250b69d1bc5b9e6a38206eb78     16\n",
       "dm-test-0f0789390d67698283cc87b2e046b5c5cd77edb7     16\n",
       "cnn-test-fbbafa743a8c2ecd2cedf65c6c61956b2db8ec5c    16\n",
       "dm-test-f37fd6e9b6cc18a7132568e307ef3b130931e809     16\n",
       "dm-test-14c813567696f4e63a39993c09d4edb454036179     16\n",
       "dm-test-e470f0a87d7513bf880412524332047020422c3f     16\n",
       "dm-test-2c37d44d03ce2e91310339d884d33ee5aabf9abc     16\n",
       "dm-test-e428e25bbf8e06643154ce31b7c6fab64c81e857     16\n",
       "Name: count, dtype: int64"
      ]
     },
     "execution_count": 8,
     "metadata": {},
     "output_type": "execute_result"
    }
   ],
   "source": [
    "df.id.value_counts(ascending=False).head(10)"
   ]
  },
  {
   "cell_type": "markdown",
   "id": "21099db0",
   "metadata": {},
   "source": [
    "## 1.4 Explodindo as anotações"
   ]
  },
  {
   "cell_type": "code",
   "execution_count": 39,
   "id": "99624f2f",
   "metadata": {},
   "outputs": [],
   "source": [
    "from functions import get_metrics_annotations"
   ]
  },
  {
   "cell_type": "code",
   "execution_count": 41,
   "id": "7c789fa4",
   "metadata": {},
   "outputs": [
    {
     "data": {
      "text/html": [
       "<div>\n",
       "<style scoped>\n",
       "    .dataframe tbody tr th:only-of-type {\n",
       "        vertical-align: middle;\n",
       "    }\n",
       "\n",
       "    .dataframe tbody tr th {\n",
       "        vertical-align: top;\n",
       "    }\n",
       "\n",
       "    .dataframe thead th {\n",
       "        text-align: right;\n",
       "    }\n",
       "</style>\n",
       "<table border=\"1\" class=\"dataframe\">\n",
       "  <thead>\n",
       "    <tr style=\"text-align: right;\">\n",
       "      <th></th>\n",
       "      <th>id</th>\n",
       "      <th>model_id</th>\n",
       "      <th>exp_coherence</th>\n",
       "      <th>exp_consistency</th>\n",
       "      <th>exp_fluency</th>\n",
       "      <th>exp_relevance</th>\n",
       "      <th>exp_overall_mean</th>\n",
       "      <th>turk_coherence</th>\n",
       "      <th>turk_consistency</th>\n",
       "      <th>turk_fluency</th>\n",
       "      <th>turk_relevance</th>\n",
       "      <th>turk_overall_mean</th>\n",
       "    </tr>\n",
       "  </thead>\n",
       "  <tbody>\n",
       "    <tr>\n",
       "      <th>1595</th>\n",
       "      <td>dm-test-fadabe346fe95d33eee71299e6596754768f5246</td>\n",
       "      <td>M22</td>\n",
       "      <td>3.333333</td>\n",
       "      <td>5.0</td>\n",
       "      <td>5.0</td>\n",
       "      <td>4.666667</td>\n",
       "      <td>4.500000</td>\n",
       "      <td>3.6</td>\n",
       "      <td>4.6</td>\n",
       "      <td>3.4</td>\n",
       "      <td>4.0</td>\n",
       "      <td>3.90</td>\n",
       "    </tr>\n",
       "    <tr>\n",
       "      <th>1596</th>\n",
       "      <td>dm-test-fadabe346fe95d33eee71299e6596754768f5246</td>\n",
       "      <td>M23</td>\n",
       "      <td>5.000000</td>\n",
       "      <td>5.0</td>\n",
       "      <td>5.0</td>\n",
       "      <td>5.000000</td>\n",
       "      <td>5.000000</td>\n",
       "      <td>3.8</td>\n",
       "      <td>3.6</td>\n",
       "      <td>3.6</td>\n",
       "      <td>4.0</td>\n",
       "      <td>3.75</td>\n",
       "    </tr>\n",
       "    <tr>\n",
       "      <th>1597</th>\n",
       "      <td>dm-test-fadabe346fe95d33eee71299e6596754768f5246</td>\n",
       "      <td>M5</td>\n",
       "      <td>5.000000</td>\n",
       "      <td>5.0</td>\n",
       "      <td>5.0</td>\n",
       "      <td>4.666667</td>\n",
       "      <td>4.916667</td>\n",
       "      <td>4.2</td>\n",
       "      <td>4.0</td>\n",
       "      <td>3.8</td>\n",
       "      <td>4.4</td>\n",
       "      <td>4.10</td>\n",
       "    </tr>\n",
       "    <tr>\n",
       "      <th>1598</th>\n",
       "      <td>dm-test-fadabe346fe95d33eee71299e6596754768f5246</td>\n",
       "      <td>M8</td>\n",
       "      <td>4.000000</td>\n",
       "      <td>5.0</td>\n",
       "      <td>4.0</td>\n",
       "      <td>3.666667</td>\n",
       "      <td>4.166667</td>\n",
       "      <td>4.0</td>\n",
       "      <td>5.0</td>\n",
       "      <td>4.0</td>\n",
       "      <td>5.0</td>\n",
       "      <td>4.50</td>\n",
       "    </tr>\n",
       "    <tr>\n",
       "      <th>1599</th>\n",
       "      <td>dm-test-fadabe346fe95d33eee71299e6596754768f5246</td>\n",
       "      <td>M9</td>\n",
       "      <td>3.333333</td>\n",
       "      <td>5.0</td>\n",
       "      <td>5.0</td>\n",
       "      <td>4.666667</td>\n",
       "      <td>4.500000</td>\n",
       "      <td>3.4</td>\n",
       "      <td>4.0</td>\n",
       "      <td>3.4</td>\n",
       "      <td>4.0</td>\n",
       "      <td>3.70</td>\n",
       "    </tr>\n",
       "  </tbody>\n",
       "</table>\n",
       "</div>"
      ],
      "text/plain": [
       "                                                    id model_id  \\\n",
       "1595  dm-test-fadabe346fe95d33eee71299e6596754768f5246      M22   \n",
       "1596  dm-test-fadabe346fe95d33eee71299e6596754768f5246      M23   \n",
       "1597  dm-test-fadabe346fe95d33eee71299e6596754768f5246       M5   \n",
       "1598  dm-test-fadabe346fe95d33eee71299e6596754768f5246       M8   \n",
       "1599  dm-test-fadabe346fe95d33eee71299e6596754768f5246       M9   \n",
       "\n",
       "      exp_coherence  exp_consistency  exp_fluency  exp_relevance  \\\n",
       "1595       3.333333              5.0          5.0       4.666667   \n",
       "1596       5.000000              5.0          5.0       5.000000   \n",
       "1597       5.000000              5.0          5.0       4.666667   \n",
       "1598       4.000000              5.0          4.0       3.666667   \n",
       "1599       3.333333              5.0          5.0       4.666667   \n",
       "\n",
       "      exp_overall_mean  turk_coherence  turk_consistency  turk_fluency  \\\n",
       "1595          4.500000             3.6               4.6           3.4   \n",
       "1596          5.000000             3.8               3.6           3.6   \n",
       "1597          4.916667             4.2               4.0           3.8   \n",
       "1598          4.166667             4.0               5.0           4.0   \n",
       "1599          4.500000             3.4               4.0           3.4   \n",
       "\n",
       "      turk_relevance  turk_overall_mean  \n",
       "1595             4.0               3.90  \n",
       "1596             4.0               3.75  \n",
       "1597             4.4               4.10  \n",
       "1598             5.0               4.50  \n",
       "1599             4.0               3.70  "
      ]
     },
     "execution_count": 41,
     "metadata": {},
     "output_type": "execute_result"
    }
   ],
   "source": [
    "avg_summeval_metrics = get_metrics_annotations(df)\n",
    "avg_summeval_metrics.tail()"
   ]
  },
  {
   "cell_type": "markdown",
   "id": "d2d5dfb8",
   "metadata": {},
   "source": [
    "### Prova Real\n",
    "\n",
    "* id : cnn-test-404f859482d47c127868964a9a39d1a7645dd2e9\t\n",
    "* model_id : M0"
   ]
  },
  {
   "cell_type": "code",
   "execution_count": 11,
   "id": "5d24d586",
   "metadata": {},
   "outputs": [
    {
     "data": {
      "text/html": [
       "<div>\n",
       "<style scoped>\n",
       "    .dataframe tbody tr th:only-of-type {\n",
       "        vertical-align: middle;\n",
       "    }\n",
       "\n",
       "    .dataframe tbody tr th {\n",
       "        vertical-align: top;\n",
       "    }\n",
       "\n",
       "    .dataframe thead th {\n",
       "        text-align: right;\n",
       "    }\n",
       "</style>\n",
       "<table border=\"1\" class=\"dataframe\">\n",
       "  <thead>\n",
       "    <tr style=\"text-align: right;\">\n",
       "      <th></th>\n",
       "      <th>id</th>\n",
       "      <th>model_id</th>\n",
       "      <th>exp_coherence</th>\n",
       "      <th>exp_consistency</th>\n",
       "      <th>exp_fluency</th>\n",
       "      <th>exp_relevance</th>\n",
       "      <th>exp_overall_mean</th>\n",
       "      <th>turk_coherence</th>\n",
       "      <th>turk_consistency</th>\n",
       "      <th>turk_fluency</th>\n",
       "      <th>turk_relevance</th>\n",
       "      <th>turk_overall_mean</th>\n",
       "    </tr>\n",
       "  </thead>\n",
       "  <tbody>\n",
       "    <tr>\n",
       "      <th>0</th>\n",
       "      <td>cnn-test-404f859482d47c127868964a9a39d1a7645dd2e9</td>\n",
       "      <td>M0</td>\n",
       "      <td>4.666667</td>\n",
       "      <td>4.666667</td>\n",
       "      <td>4.666667</td>\n",
       "      <td>3.0</td>\n",
       "      <td>4.25</td>\n",
       "      <td>4.6</td>\n",
       "      <td>4.2</td>\n",
       "      <td>4.2</td>\n",
       "      <td>4.6</td>\n",
       "      <td>4.4</td>\n",
       "    </tr>\n",
       "  </tbody>\n",
       "</table>\n",
       "</div>"
      ],
      "text/plain": [
       "                                                  id model_id  exp_coherence  \\\n",
       "0  cnn-test-404f859482d47c127868964a9a39d1a7645dd2e9       M0       4.666667   \n",
       "\n",
       "   exp_consistency  exp_fluency  exp_relevance  exp_overall_mean  \\\n",
       "0         4.666667     4.666667            3.0              4.25   \n",
       "\n",
       "   turk_coherence  turk_consistency  turk_fluency  turk_relevance  \\\n",
       "0             4.6               4.2           4.2             4.6   \n",
       "\n",
       "   turk_overall_mean  \n",
       "0                4.4  "
      ]
     },
     "execution_count": 11,
     "metadata": {},
     "output_type": "execute_result"
    }
   ],
   "source": [
    "avg_summeval_metrics[(avg_summeval_metrics.id == \"cnn-test-404f859482d47c127868964a9a39d1a7645dd2e9\") & (avg_summeval_metrics.model_id == \"M0\")]"
   ]
  },
  {
   "cell_type": "code",
   "execution_count": 12,
   "id": "71247dd1",
   "metadata": {},
   "outputs": [
    {
     "data": {
      "text/plain": [
       "[{'coherence': 5, 'consistency': 5, 'fluency': 5, 'relevance': 2},\n",
       " {'coherence': 5, 'consistency': 5, 'fluency': 5, 'relevance': 4},\n",
       " {'coherence': 4, 'consistency': 4, 'fluency': 4, 'relevance': 3}]"
      ]
     },
     "execution_count": 12,
     "metadata": {},
     "output_type": "execute_result"
    }
   ],
   "source": [
    "df.loc[1499,\"expert_annotations\"]"
   ]
  },
  {
   "cell_type": "markdown",
   "id": "9829dd3f",
   "metadata": {},
   "source": [
    "* Coherence = 4.66\n",
    "* Consistency = 4.66\n",
    "* Fluency = 4.66\n",
    "* Relevance = 3"
   ]
  },
  {
   "cell_type": "code",
   "execution_count": 13,
   "id": "5fab2e93",
   "metadata": {},
   "outputs": [
    {
     "data": {
      "text/plain": [
       "[{'coherence': 5, 'consistency': 5, 'fluency': 5, 'relevance': 5},\n",
       " {'coherence': 4, 'consistency': 5, 'fluency': 4, 'relevance': 5},\n",
       " {'coherence': 5, 'consistency': 5, 'fluency': 5, 'relevance': 4},\n",
       " {'coherence': 4, 'consistency': 3, 'fluency': 2, 'relevance': 4},\n",
       " {'coherence': 5, 'consistency': 3, 'fluency': 5, 'relevance': 5}]"
      ]
     },
     "execution_count": 13,
     "metadata": {},
     "output_type": "execute_result"
    }
   ],
   "source": [
    "df.loc[1499,\"turker_annotations\"]"
   ]
  },
  {
   "cell_type": "markdown",
   "id": "46988a20",
   "metadata": {},
   "source": [
    "* Coherence = 4.6\n",
    "* Consistency = 4.2\n",
    "* Fluency = 4.2\n",
    "* Relevance = 4.6"
   ]
  },
  {
   "cell_type": "markdown",
   "id": "e39d74da",
   "metadata": {},
   "source": [
    "# pyAutoSummarizer"
   ]
  },
  {
   "cell_type": "code",
   "execution_count": 63,
   "id": "e94cfe17",
   "metadata": {},
   "outputs": [],
   "source": [
    "from pyAutoSummarizer.base.evaluation.base import get_summary_evaluation\n",
    "from pyAutoSummarizer.base.evaluation.lexical import RougeEvaluator, BLEUEvaluator\n",
    "from pyAutoSummarizer.base.evaluation.semantic import BERTScoreEvaluator\n"
   ]
  },
  {
   "cell_type": "markdown",
   "id": "973ffe07",
   "metadata": {},
   "source": [
    "## Exemplo Pontual"
   ]
  },
  {
   "cell_type": "code",
   "execution_count": 15,
   "id": "f69e7783",
   "metadata": {},
   "outputs": [],
   "source": [
    "referencia = \"A energia solar usa a luz do sol para produzir eletricidade ou calor, e seu uso crescente ajuda a reduzir custos e emissões, promovendo uma matriz energética mais diversificada.\"\n",
    "gerado = \"A energia solar, que transforma luz solar em eletricidade, tem se tornado mais popular por ser limpa, barata e ajudar no meio ambiente.\"\n"
   ]
  },
  {
   "cell_type": "code",
   "execution_count": 16,
   "id": "663184d8",
   "metadata": {},
   "outputs": [],
   "source": [
    "resultados =get_summary_evaluation(\n",
    "    reference_summary=referencia,\n",
    "    generated_summary=gerado,\n",
    "    evaluators=[\n",
    "        RougeEvaluator(),\n",
    "        BLEUEvaluator()\n",
    "    ]\n",
    ")"
   ]
  },
  {
   "cell_type": "code",
   "execution_count": 17,
   "id": "0e403406",
   "metadata": {},
   "outputs": [
    {
     "data": {
      "text/plain": [
       "{'rouge1_f1': 0.25925925925925924,\n",
       " 'rougeL_f1': 0.2222222222222222,\n",
       " 'bleu': 0.02644168646195725}"
      ]
     },
     "execution_count": 17,
     "metadata": {},
     "output_type": "execute_result"
    }
   ],
   "source": [
    "resultados"
   ]
  },
  {
   "cell_type": "markdown",
   "id": "645cbfbc",
   "metadata": {},
   "source": [
    "## Exemplo da Base SummEval"
   ]
  },
  {
   "cell_type": "code",
   "execution_count": 18,
   "id": "f6b43df6",
   "metadata": {},
   "outputs": [
    {
     "name": "stdout",
     "output_type": "stream",
     "text": [
      "paul merson was brought on with only seven minutes remaining in his team 's 0-0 draw with burnley . andros townsend scored the tottenham midfielder in the 89th minute . paul merson had another dig at andros townsend after his appearance . the midfielder had been brought on to the england squad last week . click here for all the latest arsenal news news .\n"
     ]
    }
   ],
   "source": [
    "gerado_summeval_0 = df.loc[0,\"decoded\"]\n",
    "print(gerado_summeval_0)"
   ]
  },
  {
   "cell_type": "code",
   "execution_count": 19,
   "id": "4e236e93",
   "metadata": {},
   "outputs": [
    {
     "name": "stdout",
     "output_type": "stream",
     "text": [
      "Andros Townsend an 83rd minute sub in Tottenham's draw with Burnley. He was unable to find a winner as the game ended without a goal. Townsend had clashed with Paul Merson last week over England call-up.\n"
     ]
    }
   ],
   "source": [
    "reference_summeval_0 = df.loc[0,\"references\"][0]\n",
    "print(reference_summeval_0)"
   ]
  },
  {
   "cell_type": "code",
   "execution_count": 20,
   "id": "e3724803",
   "metadata": {},
   "outputs": [],
   "source": [
    "resultados =get_summary_evaluation(\n",
    "    reference_summary=reference_summeval_0,\n",
    "    generated_summary=gerado_summeval_0,\n",
    "    evaluators=[\n",
    "        RougeEvaluator(),\n",
    "        BLEUEvaluator()\n",
    "    ]\n",
    ")"
   ]
  },
  {
   "cell_type": "code",
   "execution_count": 21,
   "id": "20e32707",
   "metadata": {},
   "outputs": [
    {
     "data": {
      "text/plain": [
       "{'rouge1_f1': 0.404040404040404,\n",
       " 'rougeL_f1': 0.22222222222222224,\n",
       " 'bleu': 0.01853267661331109}"
      ]
     },
     "execution_count": 21,
     "metadata": {},
     "output_type": "execute_result"
    }
   ],
   "source": [
    "resultados"
   ]
  },
  {
   "cell_type": "markdown",
   "id": "2c7ad7aa",
   "metadata": {},
   "source": [
    "## Gerando Avg Evaluator Metrics"
   ]
  },
  {
   "cell_type": "code",
   "execution_count": 43,
   "id": "9f462c8b",
   "metadata": {},
   "outputs": [
    {
     "data": {
      "text/html": [
       "<div>\n",
       "<style scoped>\n",
       "    .dataframe tbody tr th:only-of-type {\n",
       "        vertical-align: middle;\n",
       "    }\n",
       "\n",
       "    .dataframe tbody tr th {\n",
       "        vertical-align: top;\n",
       "    }\n",
       "\n",
       "    .dataframe thead th {\n",
       "        text-align: right;\n",
       "    }\n",
       "</style>\n",
       "<table border=\"1\" class=\"dataframe\">\n",
       "  <thead>\n",
       "    <tr style=\"text-align: right;\">\n",
       "      <th></th>\n",
       "      <th>id</th>\n",
       "      <th>decoded</th>\n",
       "      <th>expert_annotations</th>\n",
       "      <th>turker_annotations</th>\n",
       "      <th>references</th>\n",
       "      <th>model_id</th>\n",
       "      <th>filepath</th>\n",
       "    </tr>\n",
       "  </thead>\n",
       "  <tbody>\n",
       "    <tr>\n",
       "      <th>0</th>\n",
       "      <td>dm-test-8764fb95bfad8ee849274873a92fb8d6b400eee2</td>\n",
       "      <td>paul merson was brought on with only seven min...</td>\n",
       "      <td>[{'coherence': 2, 'consistency': 1, 'fluency':...</td>\n",
       "      <td>[{'coherence': 3, 'consistency': 3, 'fluency':...</td>\n",
       "      <td>[Andros Townsend an 83rd minute sub in Tottenh...</td>\n",
       "      <td>M11</td>\n",
       "      <td>cnndm/dailymail/stories/8764fb95bfad8ee8492748...</td>\n",
       "    </tr>\n",
       "    <tr>\n",
       "      <th>1</th>\n",
       "      <td>dm-test-8764fb95bfad8ee849274873a92fb8d6b400eee2</td>\n",
       "      <td>paul merson has restarted his row with andros ...</td>\n",
       "      <td>[{'coherence': 3, 'consistency': 5, 'fluency':...</td>\n",
       "      <td>[{'coherence': 2, 'consistency': 3, 'fluency':...</td>\n",
       "      <td>[Andros Townsend an 83rd minute sub in Tottenh...</td>\n",
       "      <td>M13</td>\n",
       "      <td>cnndm/dailymail/stories/8764fb95bfad8ee8492748...</td>\n",
       "    </tr>\n",
       "  </tbody>\n",
       "</table>\n",
       "</div>"
      ],
      "text/plain": [
       "                                                 id  \\\n",
       "0  dm-test-8764fb95bfad8ee849274873a92fb8d6b400eee2   \n",
       "1  dm-test-8764fb95bfad8ee849274873a92fb8d6b400eee2   \n",
       "\n",
       "                                             decoded  \\\n",
       "0  paul merson was brought on with only seven min...   \n",
       "1  paul merson has restarted his row with andros ...   \n",
       "\n",
       "                                  expert_annotations  \\\n",
       "0  [{'coherence': 2, 'consistency': 1, 'fluency':...   \n",
       "1  [{'coherence': 3, 'consistency': 5, 'fluency':...   \n",
       "\n",
       "                                  turker_annotations  \\\n",
       "0  [{'coherence': 3, 'consistency': 3, 'fluency':...   \n",
       "1  [{'coherence': 2, 'consistency': 3, 'fluency':...   \n",
       "\n",
       "                                          references model_id  \\\n",
       "0  [Andros Townsend an 83rd minute sub in Tottenh...      M11   \n",
       "1  [Andros Townsend an 83rd minute sub in Tottenh...      M13   \n",
       "\n",
       "                                            filepath  \n",
       "0  cnndm/dailymail/stories/8764fb95bfad8ee8492748...  \n",
       "1  cnndm/dailymail/stories/8764fb95bfad8ee8492748...  "
      ]
     },
     "execution_count": 43,
     "metadata": {},
     "output_type": "execute_result"
    }
   ],
   "source": [
    "df.head(2)"
   ]
  },
  {
   "cell_type": "code",
   "execution_count": 44,
   "id": "55b61313",
   "metadata": {},
   "outputs": [],
   "source": [
    "from functions import get_metrics_evaluator"
   ]
  },
  {
   "cell_type": "code",
   "execution_count": 73,
   "id": "7daf9153",
   "metadata": {},
   "outputs": [
    {
     "name": "stderr",
     "output_type": "stream",
     "text": [
      "100%|██████████| 33/33 [00:00<00:00, 856.97it/s]\n",
      "100%|██████████| 33/33 [00:53<00:00,  1.62s/it]\n"
     ]
    }
   ],
   "source": [
    "lexical_eval=[\n",
    "    RougeEvaluator(),\n",
    "    BLEUEvaluator(),\n",
    "    ]\n",
    "\n",
    "semantic_eval   =  [BERTScoreEvaluator()]\n",
    "df_agg_lexical = get_metrics_evaluator(df.head(3),lexical_eval , \"lexical\")\n",
    "df_agg_semantic= get_metrics_evaluator(df.head(3),semantic_eval , \"semantic\")"
   ]
  },
  {
   "cell_type": "code",
   "execution_count": 75,
   "id": "503ae50a",
   "metadata": {},
   "outputs": [],
   "source": [
    "df_agg = pd.merge(df_agg_lexical, df_agg_semantic, on= [\"id\",\"model_id\"])"
   ]
  },
  {
   "cell_type": "code",
   "execution_count": 76,
   "id": "2270a34c",
   "metadata": {},
   "outputs": [
    {
     "data": {
      "text/html": [
       "<div>\n",
       "<style scoped>\n",
       "    .dataframe tbody tr th:only-of-type {\n",
       "        vertical-align: middle;\n",
       "    }\n",
       "\n",
       "    .dataframe tbody tr th {\n",
       "        vertical-align: top;\n",
       "    }\n",
       "\n",
       "    .dataframe thead th {\n",
       "        text-align: right;\n",
       "    }\n",
       "</style>\n",
       "<table border=\"1\" class=\"dataframe\">\n",
       "  <thead>\n",
       "    <tr style=\"text-align: right;\">\n",
       "      <th></th>\n",
       "      <th>id</th>\n",
       "      <th>model_id</th>\n",
       "      <th>lexical_rouge1_f1</th>\n",
       "      <th>lexical_rougeL_f1</th>\n",
       "      <th>lexical_bleu</th>\n",
       "      <th>lexical_overall_mean</th>\n",
       "      <th>semantic_bert_score_precision</th>\n",
       "      <th>semantic_bert_score_recall</th>\n",
       "      <th>semantic_bert_score_f1</th>\n",
       "      <th>semantic_overall_mean</th>\n",
       "    </tr>\n",
       "  </thead>\n",
       "  <tbody>\n",
       "    <tr>\n",
       "      <th>0</th>\n",
       "      <td>dm-test-8764fb95bfad8ee849274873a92fb8d6b400eee2</td>\n",
       "      <td>M1</td>\n",
       "      <td>0.292654</td>\n",
       "      <td>0.200857</td>\n",
       "      <td>0.010909</td>\n",
       "      <td>0.168140</td>\n",
       "      <td>0.124940</td>\n",
       "      <td>-0.114202</td>\n",
       "      <td>0.003692</td>\n",
       "      <td>0.00481</td>\n",
       "    </tr>\n",
       "    <tr>\n",
       "      <th>1</th>\n",
       "      <td>dm-test-8764fb95bfad8ee849274873a92fb8d6b400eee2</td>\n",
       "      <td>M11</td>\n",
       "      <td>0.303723</td>\n",
       "      <td>0.191623</td>\n",
       "      <td>0.011550</td>\n",
       "      <td>0.168965</td>\n",
       "      <td>0.125775</td>\n",
       "      <td>-0.147368</td>\n",
       "      <td>-0.013298</td>\n",
       "      <td>-0.01163</td>\n",
       "    </tr>\n",
       "  </tbody>\n",
       "</table>\n",
       "</div>"
      ],
      "text/plain": [
       "                                                 id model_id  \\\n",
       "0  dm-test-8764fb95bfad8ee849274873a92fb8d6b400eee2       M1   \n",
       "1  dm-test-8764fb95bfad8ee849274873a92fb8d6b400eee2      M11   \n",
       "\n",
       "   lexical_rouge1_f1  lexical_rougeL_f1  lexical_bleu  lexical_overall_mean  \\\n",
       "0           0.292654           0.200857      0.010909              0.168140   \n",
       "1           0.303723           0.191623      0.011550              0.168965   \n",
       "\n",
       "   semantic_bert_score_precision  semantic_bert_score_recall  \\\n",
       "0                       0.124940                   -0.114202   \n",
       "1                       0.125775                   -0.147368   \n",
       "\n",
       "   semantic_bert_score_f1  semantic_overall_mean  \n",
       "0                0.003692                0.00481  \n",
       "1               -0.013298               -0.01163  "
      ]
     },
     "execution_count": 76,
     "metadata": {},
     "output_type": "execute_result"
    }
   ],
   "source": [
    "df_agg.head(2)"
   ]
  },
  {
   "cell_type": "markdown",
   "id": "5d43818a",
   "metadata": {},
   "source": [
    "# Metrics Frame"
   ]
  },
  {
   "cell_type": "code",
   "execution_count": 77,
   "id": "bb6e1fac",
   "metadata": {},
   "outputs": [],
   "source": [
    "metrics_frame = pd.merge(avg_summeval_metrics, df_agg, on=[\"id\", \"model_id\"], how=\"inner\")"
   ]
  },
  {
   "cell_type": "code",
   "execution_count": 93,
   "id": "286d532e",
   "metadata": {},
   "outputs": [],
   "source": [
    "A1 = 0.5\n",
    "A2 = 0.5\n",
    "lexical_col = 'lexical_overall_mean'\n",
    "semantic_col = 'semantic_overall_mean'\n",
    "\n",
    "metrics_frame[\"new_metric_col\"] = A1 * metrics_frame[lexical_col] + A2 * metrics_frame[semantic_col]"
   ]
  },
  {
   "cell_type": "code",
   "execution_count": 94,
   "id": "1d179154",
   "metadata": {},
   "outputs": [
    {
     "data": {
      "text/html": [
       "<div>\n",
       "<style scoped>\n",
       "    .dataframe tbody tr th:only-of-type {\n",
       "        vertical-align: middle;\n",
       "    }\n",
       "\n",
       "    .dataframe tbody tr th {\n",
       "        vertical-align: top;\n",
       "    }\n",
       "\n",
       "    .dataframe thead th {\n",
       "        text-align: right;\n",
       "    }\n",
       "</style>\n",
       "<table border=\"1\" class=\"dataframe\">\n",
       "  <thead>\n",
       "    <tr style=\"text-align: right;\">\n",
       "      <th></th>\n",
       "      <th>id</th>\n",
       "      <th>model_id</th>\n",
       "      <th>exp_coherence</th>\n",
       "      <th>exp_consistency</th>\n",
       "      <th>exp_fluency</th>\n",
       "      <th>exp_relevance</th>\n",
       "      <th>exp_overall_mean</th>\n",
       "      <th>turk_coherence</th>\n",
       "      <th>turk_consistency</th>\n",
       "      <th>turk_fluency</th>\n",
       "      <th>...</th>\n",
       "      <th>turk_overall_mean</th>\n",
       "      <th>lexical_rouge1_f1</th>\n",
       "      <th>lexical_rougeL_f1</th>\n",
       "      <th>lexical_bleu</th>\n",
       "      <th>lexical_overall_mean</th>\n",
       "      <th>semantic_bert_score_precision</th>\n",
       "      <th>semantic_bert_score_recall</th>\n",
       "      <th>semantic_bert_score_f1</th>\n",
       "      <th>semantic_overall_mean</th>\n",
       "      <th>new_metric_col</th>\n",
       "    </tr>\n",
       "  </thead>\n",
       "  <tbody>\n",
       "    <tr>\n",
       "      <th>0</th>\n",
       "      <td>dm-test-8764fb95bfad8ee849274873a92fb8d6b400eee2</td>\n",
       "      <td>M1</td>\n",
       "      <td>2.333333</td>\n",
       "      <td>5.0</td>\n",
       "      <td>5.0</td>\n",
       "      <td>2.666667</td>\n",
       "      <td>3.75</td>\n",
       "      <td>3.8</td>\n",
       "      <td>4.2</td>\n",
       "      <td>3.8</td>\n",
       "      <td>...</td>\n",
       "      <td>4.10</td>\n",
       "      <td>0.292654</td>\n",
       "      <td>0.200857</td>\n",
       "      <td>0.010909</td>\n",
       "      <td>0.168140</td>\n",
       "      <td>0.124940</td>\n",
       "      <td>-0.114202</td>\n",
       "      <td>0.003692</td>\n",
       "      <td>0.004810</td>\n",
       "      <td>0.086475</td>\n",
       "    </tr>\n",
       "    <tr>\n",
       "      <th>1</th>\n",
       "      <td>dm-test-8764fb95bfad8ee849274873a92fb8d6b400eee2</td>\n",
       "      <td>M11</td>\n",
       "      <td>1.333333</td>\n",
       "      <td>1.0</td>\n",
       "      <td>3.0</td>\n",
       "      <td>1.666667</td>\n",
       "      <td>1.75</td>\n",
       "      <td>3.0</td>\n",
       "      <td>3.0</td>\n",
       "      <td>4.0</td>\n",
       "      <td>...</td>\n",
       "      <td>3.25</td>\n",
       "      <td>0.303723</td>\n",
       "      <td>0.191623</td>\n",
       "      <td>0.011550</td>\n",
       "      <td>0.168965</td>\n",
       "      <td>0.125775</td>\n",
       "      <td>-0.147368</td>\n",
       "      <td>-0.013298</td>\n",
       "      <td>-0.011630</td>\n",
       "      <td>0.078667</td>\n",
       "    </tr>\n",
       "    <tr>\n",
       "      <th>2</th>\n",
       "      <td>dm-test-8764fb95bfad8ee849274873a92fb8d6b400eee2</td>\n",
       "      <td>M13</td>\n",
       "      <td>2.333333</td>\n",
       "      <td>5.0</td>\n",
       "      <td>5.0</td>\n",
       "      <td>2.666667</td>\n",
       "      <td>3.75</td>\n",
       "      <td>2.0</td>\n",
       "      <td>3.0</td>\n",
       "      <td>2.0</td>\n",
       "      <td>...</td>\n",
       "      <td>2.50</td>\n",
       "      <td>0.272701</td>\n",
       "      <td>0.204539</td>\n",
       "      <td>0.013342</td>\n",
       "      <td>0.163527</td>\n",
       "      <td>0.114611</td>\n",
       "      <td>-0.156169</td>\n",
       "      <td>-0.023440</td>\n",
       "      <td>-0.021666</td>\n",
       "      <td>0.070931</td>\n",
       "    </tr>\n",
       "  </tbody>\n",
       "</table>\n",
       "<p>3 rows × 21 columns</p>\n",
       "</div>"
      ],
      "text/plain": [
       "                                                 id model_id  exp_coherence  \\\n",
       "0  dm-test-8764fb95bfad8ee849274873a92fb8d6b400eee2       M1       2.333333   \n",
       "1  dm-test-8764fb95bfad8ee849274873a92fb8d6b400eee2      M11       1.333333   \n",
       "2  dm-test-8764fb95bfad8ee849274873a92fb8d6b400eee2      M13       2.333333   \n",
       "\n",
       "   exp_consistency  exp_fluency  exp_relevance  exp_overall_mean  \\\n",
       "0              5.0          5.0       2.666667              3.75   \n",
       "1              1.0          3.0       1.666667              1.75   \n",
       "2              5.0          5.0       2.666667              3.75   \n",
       "\n",
       "   turk_coherence  turk_consistency  turk_fluency  ...  turk_overall_mean  \\\n",
       "0             3.8               4.2           3.8  ...               4.10   \n",
       "1             3.0               3.0           4.0  ...               3.25   \n",
       "2             2.0               3.0           2.0  ...               2.50   \n",
       "\n",
       "   lexical_rouge1_f1  lexical_rougeL_f1  lexical_bleu  lexical_overall_mean  \\\n",
       "0           0.292654           0.200857      0.010909              0.168140   \n",
       "1           0.303723           0.191623      0.011550              0.168965   \n",
       "2           0.272701           0.204539      0.013342              0.163527   \n",
       "\n",
       "   semantic_bert_score_precision  semantic_bert_score_recall  \\\n",
       "0                       0.124940                   -0.114202   \n",
       "1                       0.125775                   -0.147368   \n",
       "2                       0.114611                   -0.156169   \n",
       "\n",
       "   semantic_bert_score_f1  semantic_overall_mean  new_metric_col  \n",
       "0                0.003692               0.004810        0.086475  \n",
       "1               -0.013298              -0.011630        0.078667  \n",
       "2               -0.023440              -0.021666        0.070931  \n",
       "\n",
       "[3 rows x 21 columns]"
      ]
     },
     "execution_count": 94,
     "metadata": {},
     "output_type": "execute_result"
    }
   ],
   "source": [
    "metrics_frame.tail()"
   ]
  },
  {
   "cell_type": "markdown",
   "id": "99821911",
   "metadata": {},
   "source": [
    "# Correlation Frame"
   ]
  },
  {
   "cell_type": "code",
   "execution_count": 107,
   "id": "d10f9f0a",
   "metadata": {},
   "outputs": [],
   "source": [
    "from functions import get_corr\n",
    "\n",
    "\n",
    "human_cols = [\"exp_\"]\n",
    "eval_cols = [\"lexical_\", \"semantic_\",\"new_metric_col\"]\n",
    "methods = ['pearson']#, 'spearman']\n",
    "\n",
    "\n",
    "correlation_table = get_corr(metrics_frame, eval_cols, human_cols,  methods)"
   ]
  },
  {
   "cell_type": "code",
   "execution_count": 108,
   "id": "39add9cd",
   "metadata": {},
   "outputs": [
    {
     "data": {
      "text/html": [
       "<div>\n",
       "<style scoped>\n",
       "    .dataframe tbody tr th:only-of-type {\n",
       "        vertical-align: middle;\n",
       "    }\n",
       "\n",
       "    .dataframe tbody tr th {\n",
       "        vertical-align: top;\n",
       "    }\n",
       "\n",
       "    .dataframe thead th {\n",
       "        text-align: right;\n",
       "    }\n",
       "</style>\n",
       "<table border=\"1\" class=\"dataframe\">\n",
       "  <thead>\n",
       "    <tr style=\"text-align: right;\">\n",
       "      <th></th>\n",
       "      <th>exp_coherence</th>\n",
       "      <th>exp_consistency</th>\n",
       "      <th>exp_fluency</th>\n",
       "      <th>exp_relevance</th>\n",
       "      <th>exp_overall_mean</th>\n",
       "    </tr>\n",
       "  </thead>\n",
       "  <tbody>\n",
       "    <tr>\n",
       "      <th>lexical_rouge1_f1</th>\n",
       "      <td>-0.772851</td>\n",
       "      <td>-0.772851</td>\n",
       "      <td>-0.772851</td>\n",
       "      <td>-0.772851</td>\n",
       "      <td>-0.772851</td>\n",
       "    </tr>\n",
       "    <tr>\n",
       "      <th>lexical_rougeL_f1</th>\n",
       "      <td>0.960951</td>\n",
       "      <td>0.960951</td>\n",
       "      <td>0.960951</td>\n",
       "      <td>0.960951</td>\n",
       "      <td>0.960951</td>\n",
       "    </tr>\n",
       "    <tr>\n",
       "      <th>lexical_bleu</th>\n",
       "      <td>0.263655</td>\n",
       "      <td>0.263655</td>\n",
       "      <td>0.263655</td>\n",
       "      <td>0.263655</td>\n",
       "      <td>0.263655</td>\n",
       "    </tr>\n",
       "    <tr>\n",
       "      <th>lexical_overall_mean</th>\n",
       "      <td>-0.616917</td>\n",
       "      <td>-0.616917</td>\n",
       "      <td>-0.616917</td>\n",
       "      <td>-0.616917</td>\n",
       "      <td>-0.616917</td>\n",
       "    </tr>\n",
       "    <tr>\n",
       "      <th>semantic_bert_score_precision</th>\n",
       "      <td>-0.557004</td>\n",
       "      <td>-0.557004</td>\n",
       "      <td>-0.557004</td>\n",
       "      <td>-0.557004</td>\n",
       "      <td>-0.557004</td>\n",
       "    </tr>\n",
       "    <tr>\n",
       "      <th>semantic_bert_score_recall</th>\n",
       "      <td>0.317807</td>\n",
       "      <td>0.317807</td>\n",
       "      <td>0.317807</td>\n",
       "      <td>0.317807</td>\n",
       "      <td>0.317807</td>\n",
       "    </tr>\n",
       "    <tr>\n",
       "      <th>semantic_bert_score_f1</th>\n",
       "      <td>0.144198</td>\n",
       "      <td>0.144198</td>\n",
       "      <td>0.144198</td>\n",
       "      <td>0.144198</td>\n",
       "      <td>0.144198</td>\n",
       "    </tr>\n",
       "    <tr>\n",
       "      <th>semantic_overall_mean</th>\n",
       "      <td>0.138320</td>\n",
       "      <td>0.138320</td>\n",
       "      <td>0.138320</td>\n",
       "      <td>0.138320</td>\n",
       "      <td>0.138320</td>\n",
       "    </tr>\n",
       "    <tr>\n",
       "      <th>new_metric_col</th>\n",
       "      <td>0.002636</td>\n",
       "      <td>0.002636</td>\n",
       "      <td>0.002636</td>\n",
       "      <td>0.002636</td>\n",
       "      <td>0.002636</td>\n",
       "    </tr>\n",
       "  </tbody>\n",
       "</table>\n",
       "</div>"
      ],
      "text/plain": [
       "                               exp_coherence  exp_consistency  exp_fluency  \\\n",
       "lexical_rouge1_f1                  -0.772851        -0.772851    -0.772851   \n",
       "lexical_rougeL_f1                   0.960951         0.960951     0.960951   \n",
       "lexical_bleu                        0.263655         0.263655     0.263655   \n",
       "lexical_overall_mean               -0.616917        -0.616917    -0.616917   \n",
       "semantic_bert_score_precision      -0.557004        -0.557004    -0.557004   \n",
       "semantic_bert_score_recall          0.317807         0.317807     0.317807   \n",
       "semantic_bert_score_f1              0.144198         0.144198     0.144198   \n",
       "semantic_overall_mean               0.138320         0.138320     0.138320   \n",
       "new_metric_col                      0.002636         0.002636     0.002636   \n",
       "\n",
       "                               exp_relevance  exp_overall_mean  \n",
       "lexical_rouge1_f1                  -0.772851         -0.772851  \n",
       "lexical_rougeL_f1                   0.960951          0.960951  \n",
       "lexical_bleu                        0.263655          0.263655  \n",
       "lexical_overall_mean               -0.616917         -0.616917  \n",
       "semantic_bert_score_precision      -0.557004         -0.557004  \n",
       "semantic_bert_score_recall          0.317807          0.317807  \n",
       "semantic_bert_score_f1              0.144198          0.144198  \n",
       "semantic_overall_mean               0.138320          0.138320  \n",
       "new_metric_col                      0.002636          0.002636  "
      ]
     },
     "execution_count": 108,
     "metadata": {},
     "output_type": "execute_result"
    }
   ],
   "source": [
    "correlation_table"
   ]
  },
  {
   "cell_type": "code",
   "execution_count": null,
   "id": "22bd3015",
   "metadata": {},
   "outputs": [],
   "source": []
  }
 ],
 "metadata": {
  "kernelspec": {
   "display_name": ".venv",
   "language": "python",
   "name": "python3"
  },
  "language_info": {
   "codemirror_mode": {
    "name": "ipython",
    "version": 3
   },
   "file_extension": ".py",
   "mimetype": "text/x-python",
   "name": "python",
   "nbconvert_exporter": "python",
   "pygments_lexer": "ipython3",
   "version": "3.9.13"
  }
 },
 "nbformat": 4,
 "nbformat_minor": 5
}
