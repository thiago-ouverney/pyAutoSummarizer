{
 "cells": [
  {
   "cell_type": "markdown",
   "id": "b575c8ee",
   "metadata": {},
   "source": [
    "> Este ntb gera ``model_annotations_merged.csv`` , unindo `PATH_SUMMEVAL_JSONL` com `*.storys` "
   ]
  },
  {
   "cell_type": "markdown",
   "id": "520d8551",
   "metadata": {},
   "source": [
    "Dados de storys podem ser baixados em https://github.com/ThomasScialom/QuestEval "
   ]
  },
  {
   "cell_type": "code",
   "execution_count": null,
   "id": "6cac02ea",
   "metadata": {},
   "outputs": [
    {
     "name": "stderr",
     "output_type": "stream",
     "text": [
      "c:\\Users\\thiago.ouverney\\Projetos\\pyAutoSummarizer\\.venv\\lib\\site-packages\\tqdm\\auto.py:21: TqdmWarning: IProgress not found. Please update jupyter and ipywidgets. See https://ipywidgets.readthedocs.io/en/stable/user_install.html\n",
      "  from .autonotebook import tqdm as notebook_tqdm\n",
      "The following layers were not sharded: encoder.layer.*.attention.attn.v.weight, encoder.layer.*.output.dense.weight, pooler.dense.weight, encoder.layer.*.intermediate.dense.weight, embeddings.LayerNorm.weight, pooler.dense.bias, encoder.relative_attention_bias.weight, embeddings.LayerNorm.bias, encoder.layer.*.attention.attn.q.weight, encoder.layer.*.attention.attn.v.bias, embeddings.position_embeddings.weight, encoder.layer.*.attention.attn.q.bias, encoder.layer.*.attention.attn.k.weight, encoder.layer.*.output.LayerNorm.bias, encoder.layer.*.attention.attn.o.bias, encoder.layer.*.attention.LayerNorm.bias, encoder.layer.*.attention.LayerNorm.weight, encoder.layer.*.output.LayerNorm.weight, embeddings.word_embeddings.weight, encoder.layer.*.attention.attn.k.bias, encoder.layer.*.intermediate.dense.bias, encoder.layer.*.attention.attn.o.weight, encoder.layer.*.output.dense.bias\n"
     ]
    }
   ],
   "source": [
    "import pandas as pd\n",
    "from research.src.constants import PATH_SUMMEVAL_JSONL\n",
    "df = pd.read_json(PATH_SUMMEVAL_JSONL, lines=True)\n"
   ]
  },
  {
   "cell_type": "code",
   "execution_count": null,
   "id": "d4f656ff",
   "metadata": {},
   "outputs": [
    {
     "data": {
      "text/html": [
       "<div>\n",
       "<style scoped>\n",
       "    .dataframe tbody tr th:only-of-type {\n",
       "        vertical-align: middle;\n",
       "    }\n",
       "\n",
       "    .dataframe tbody tr th {\n",
       "        vertical-align: top;\n",
       "    }\n",
       "\n",
       "    .dataframe thead th {\n",
       "        text-align: right;\n",
       "    }\n",
       "</style>\n",
       "<table border=\"1\" class=\"dataframe\">\n",
       "  <thead>\n",
       "    <tr style=\"text-align: right;\">\n",
       "      <th></th>\n",
       "      <th>id</th>\n",
       "      <th>decoded</th>\n",
       "      <th>expert_annotations</th>\n",
       "      <th>turker_annotations</th>\n",
       "      <th>references</th>\n",
       "      <th>model_id</th>\n",
       "      <th>filepath</th>\n",
       "    </tr>\n",
       "  </thead>\n",
       "  <tbody>\n",
       "  </tbody>\n",
       "</table>\n",
       "</div>"
      ],
      "text/plain": [
       "Empty DataFrame\n",
       "Columns: [id, decoded, expert_annotations, turker_annotations, references, model_id, filepath]\n",
       "Index: []"
      ]
     },
     "metadata": {},
     "output_type": "display_data"
    }
   ],
   "source": [
    "df[df.id == \"dm-test-00dad5d893f836f53080de50e9b983ad2f9bcd22\"]"
   ]
  },
  {
   "cell_type": "code",
   "execution_count": null,
   "id": "962e9ee4",
   "metadata": {},
   "outputs": [
    {
     "data": {
      "text/html": [
       "<div>\n",
       "<style scoped>\n",
       "    .dataframe tbody tr th:only-of-type {\n",
       "        vertical-align: middle;\n",
       "    }\n",
       "\n",
       "    .dataframe tbody tr th {\n",
       "        vertical-align: top;\n",
       "    }\n",
       "\n",
       "    .dataframe thead th {\n",
       "        text-align: right;\n",
       "    }\n",
       "</style>\n",
       "<table border=\"1\" class=\"dataframe\">\n",
       "  <thead>\n",
       "    <tr style=\"text-align: right;\">\n",
       "      <th></th>\n",
       "      <th>id</th>\n",
       "      <th>decoded</th>\n",
       "      <th>expert_annotations</th>\n",
       "      <th>turker_annotations</th>\n",
       "      <th>references</th>\n",
       "      <th>model_id</th>\n",
       "      <th>filepath</th>\n",
       "    </tr>\n",
       "  </thead>\n",
       "  <tbody>\n",
       "    <tr>\n",
       "      <th>1595</th>\n",
       "      <td>dm-test-e880fda4c25289f8325574246f0f8ed4ff5eb26b</td>\n",
       "      <td>a timewarp home which has remained unchanged s...</td>\n",
       "      <td>[{'coherence': 5, 'consistency': 5, 'fluency':...</td>\n",
       "      <td>[{'coherence': 4, 'consistency': 3, 'fluency':...</td>\n",
       "      <td>[Nondescript semi-detached home for sale in Ho...</td>\n",
       "      <td>M0</td>\n",
       "      <td>cnndm/dailymail/stories/e880fda4c25289f8325574...</td>\n",
       "    </tr>\n",
       "    <tr>\n",
       "      <th>1596</th>\n",
       "      <td>dm-test-e880fda4c25289f8325574246f0f8ed4ff5eb26b</td>\n",
       "      <td>The collector 's paradise in Horfield , Bristo...</td>\n",
       "      <td>[{'coherence': 3, 'consistency': 5, 'fluency':...</td>\n",
       "      <td>[{'coherence': 4, 'consistency': 4, 'fluency':...</td>\n",
       "      <td>[Nondescript semi-detached home for sale in Ho...</td>\n",
       "      <td>M22</td>\n",
       "      <td>cnndm/dailymail/stories/e880fda4c25289f8325574...</td>\n",
       "    </tr>\n",
       "    <tr>\n",
       "      <th>1597</th>\n",
       "      <td>dm-test-e880fda4c25289f8325574246f0f8ed4ff5eb26b</td>\n",
       "      <td>the collector’s paradise in horfield , bristol...</td>\n",
       "      <td>[{'coherence': 5, 'consistency': 5, 'fluency':...</td>\n",
       "      <td>[{'coherence': 4, 'consistency': 4, 'fluency':...</td>\n",
       "      <td>[Nondescript semi-detached home for sale in Ho...</td>\n",
       "      <td>M8</td>\n",
       "      <td>cnndm/dailymail/stories/e880fda4c25289f8325574...</td>\n",
       "    </tr>\n",
       "    <tr>\n",
       "      <th>1598</th>\n",
       "      <td>dm-test-e880fda4c25289f8325574246f0f8ed4ff5eb26b</td>\n",
       "      <td>the collector 's paradise in horfield , bristo...</td>\n",
       "      <td>[{'coherence': 3, 'consistency': 5, 'fluency':...</td>\n",
       "      <td>[{'coherence': 4, 'consistency': 3, 'fluency':...</td>\n",
       "      <td>[Nondescript semi-detached home for sale in Ho...</td>\n",
       "      <td>M10</td>\n",
       "      <td>cnndm/dailymail/stories/e880fda4c25289f8325574...</td>\n",
       "    </tr>\n",
       "    <tr>\n",
       "      <th>1599</th>\n",
       "      <td>dm-test-e880fda4c25289f8325574246f0f8ed4ff5eb26b</td>\n",
       "      <td>the timewarp home has remained unchanged since...</td>\n",
       "      <td>[{'coherence': 3, 'consistency': 5, 'fluency':...</td>\n",
       "      <td>[{'coherence': 4, 'consistency': 3, 'fluency':...</td>\n",
       "      <td>[Nondescript semi-detached home for sale in Ho...</td>\n",
       "      <td>M9</td>\n",
       "      <td>cnndm/dailymail/stories/e880fda4c25289f8325574...</td>\n",
       "    </tr>\n",
       "  </tbody>\n",
       "</table>\n",
       "</div>"
      ],
      "text/plain": [
       "                                                    id  \\\n",
       "1595  dm-test-e880fda4c25289f8325574246f0f8ed4ff5eb26b   \n",
       "1596  dm-test-e880fda4c25289f8325574246f0f8ed4ff5eb26b   \n",
       "1597  dm-test-e880fda4c25289f8325574246f0f8ed4ff5eb26b   \n",
       "1598  dm-test-e880fda4c25289f8325574246f0f8ed4ff5eb26b   \n",
       "1599  dm-test-e880fda4c25289f8325574246f0f8ed4ff5eb26b   \n",
       "\n",
       "                                                decoded  \\\n",
       "1595  a timewarp home which has remained unchanged s...   \n",
       "1596  The collector 's paradise in Horfield , Bristo...   \n",
       "1597  the collector’s paradise in horfield , bristol...   \n",
       "1598  the collector 's paradise in horfield , bristo...   \n",
       "1599  the timewarp home has remained unchanged since...   \n",
       "\n",
       "                                     expert_annotations  \\\n",
       "1595  [{'coherence': 5, 'consistency': 5, 'fluency':...   \n",
       "1596  [{'coherence': 3, 'consistency': 5, 'fluency':...   \n",
       "1597  [{'coherence': 5, 'consistency': 5, 'fluency':...   \n",
       "1598  [{'coherence': 3, 'consistency': 5, 'fluency':...   \n",
       "1599  [{'coherence': 3, 'consistency': 5, 'fluency':...   \n",
       "\n",
       "                                     turker_annotations  \\\n",
       "1595  [{'coherence': 4, 'consistency': 3, 'fluency':...   \n",
       "1596  [{'coherence': 4, 'consistency': 4, 'fluency':...   \n",
       "1597  [{'coherence': 4, 'consistency': 4, 'fluency':...   \n",
       "1598  [{'coherence': 4, 'consistency': 3, 'fluency':...   \n",
       "1599  [{'coherence': 4, 'consistency': 3, 'fluency':...   \n",
       "\n",
       "                                             references model_id  \\\n",
       "1595  [Nondescript semi-detached home for sale in Ho...       M0   \n",
       "1596  [Nondescript semi-detached home for sale in Ho...      M22   \n",
       "1597  [Nondescript semi-detached home for sale in Ho...       M8   \n",
       "1598  [Nondescript semi-detached home for sale in Ho...      M10   \n",
       "1599  [Nondescript semi-detached home for sale in Ho...       M9   \n",
       "\n",
       "                                               filepath  \n",
       "1595  cnndm/dailymail/stories/e880fda4c25289f8325574...  \n",
       "1596  cnndm/dailymail/stories/e880fda4c25289f8325574...  \n",
       "1597  cnndm/dailymail/stories/e880fda4c25289f8325574...  \n",
       "1598  cnndm/dailymail/stories/e880fda4c25289f8325574...  \n",
       "1599  cnndm/dailymail/stories/e880fda4c25289f8325574...  "
      ]
     },
     "metadata": {},
     "output_type": "display_data"
    }
   ],
   "source": [
    "df.tail()"
   ]
  },
  {
   "cell_type": "code",
   "execution_count": null,
   "id": "73fb7fef",
   "metadata": {},
   "outputs": [],
   "source": [
    "df['folder_type'] = df.filepath.apply(lambda x: x.split(\"/\")[1])"
   ]
  },
  {
   "cell_type": "code",
   "execution_count": null,
   "id": "5fa12e20",
   "metadata": {},
   "outputs": [
    {
     "data": {
      "text/plain": [
       "folder_type\n",
       "dailymail    1392\n",
       "cnn           208\n",
       "Name: count, dtype: int64"
      ]
     },
     "metadata": {},
     "output_type": "display_data"
    }
   ],
   "source": [
    "df['folder_type'].value_counts()"
   ]
  },
  {
   "cell_type": "code",
   "execution_count": null,
   "id": "84d86067",
   "metadata": {},
   "outputs": [],
   "source": [
    "import os\n",
    "cndm_path = \"\" #\"C:\\\\Users\\\\thiago.ouverney\\\\Desktop\\\\TCC\\\\cndm\"\n",
    "os.chdir(cndm_path)"
   ]
  },
  {
   "cell_type": "code",
   "execution_count": null,
   "id": "b8dc36fd",
   "metadata": {},
   "outputs": [],
   "source": [
    "files = [f for f in os.listdir('cnn/stories') if f.endswith(\".story\")]\n",
    "files_daily = [f for f in os.listdir('dailymail_stories/dailymail/stories') if f.endswith(\".story\")]\n",
    "files += files_daily"
   ]
  },
  {
   "cell_type": "markdown",
   "id": "d5273f34",
   "metadata": {},
   "source": [
    "C:/Users/thiago.ouverney/Desktop/TCC/cnn/stories\n",
    "C:/Users/thiago.ouverney/Projetos/pyAutoSummarizer/data/model_annotations.aligned.jsonl"
   ]
  },
  {
   "cell_type": "markdown",
   "id": "d8cf540e",
   "metadata": {},
   "source": [
    "> Encontrando storys cm match"
   ]
  },
  {
   "cell_type": "code",
   "execution_count": null,
   "id": "590e1be7",
   "metadata": {},
   "outputs": [
    {
     "data": {
      "text/plain": [
       "312085"
      ]
     },
     "metadata": {},
     "output_type": "display_data"
    }
   ],
   "source": [
    "len(files)"
   ]
  },
  {
   "cell_type": "code",
   "execution_count": null,
   "id": "574f8dba",
   "metadata": {},
   "outputs": [
    {
     "name": "stderr",
     "output_type": "stream",
     "text": [
      "100%|██████████| 1600/1600 [00:51<00:00, 31.33it/s]\n"
     ]
    }
   ],
   "source": [
    "from tqdm import tqdm\n",
    "\n",
    "lista_encontrados = []\n",
    "for story_path in tqdm(df.filepath):\n",
    "    for f in files:\n",
    "        if story_path.split(\"/\")[-1] == f:\n",
    "            # print(f, story_path)\n",
    "            lista_encontrados.append(story_path) \n",
    "            break"
   ]
  },
  {
   "cell_type": "code",
   "execution_count": null,
   "id": "a39efba6",
   "metadata": {},
   "outputs": [
    {
     "name": "stdout",
     "output_type": "stream",
     "text": [
      "Percentual de cobertura 100.0%\n"
     ]
    }
   ],
   "source": [
    "print(f\"Percentual de cobertura {100*len(lista_encontrados) / len(df.filepath) }%\")"
   ]
  },
  {
   "cell_type": "code",
   "execution_count": null,
   "id": "46837ea9",
   "metadata": {},
   "outputs": [
    {
     "name": "stderr",
     "output_type": "stream",
     "text": [
      "92579it [01:28, 1049.23it/s]\n",
      "219506it [07:29, 488.11it/s] \n"
     ]
    },
    {
     "name": "stdout",
     "output_type": "stream",
     "text": [
      "                                   story_id  \\\n",
      "0  0001d1afc246a7964130f43ae940af6bc6c57f01   \n",
      "1  0002095e55fcbd3a2f366d9bf92a95433dc305ef   \n",
      "2  00027e965c8264c35cc1bc55556db388da82b07f   \n",
      "3  0002c17436637c4fe1837c935c04de47adb18e9a   \n",
      "4  0003ad6ef0c37534f80b55b4235108024b407f0b   \n",
      "\n",
      "                                             content  \\\n",
      "0  It's official: U.S. President Barack Obama wan...   \n",
      "1  (CNN) -- Usain Bolt rounded off the world cham...   \n",
      "2  Kansas City, Missouri (CNN) -- The General Ser...   \n",
      "3  Los Angeles (CNN) -- A medical doctor in Vanco...   \n",
      "4  (CNN) -- Police arrested another teen Thursday...   \n",
      "\n",
      "                                      filepath_story  \n",
      "0  cnn\\stories\\0001d1afc246a7964130f43ae940af6bc6...  \n",
      "1  cnn\\stories\\0002095e55fcbd3a2f366d9bf92a95433d...  \n",
      "2  cnn\\stories\\00027e965c8264c35cc1bc55556db388da...  \n",
      "3  cnn\\stories\\0002c17436637c4fe1837c935c04de47ad...  \n",
      "4  cnn\\stories\\0003ad6ef0c37534f80b55b4235108024b...  \n"
     ]
    }
   ],
   "source": [
    "from pathlib import Path\n",
    "import pandas as pd\n",
    "import os\n",
    "from tqdm import tqdm\n",
    "# Diretórios onde estão os .story\n",
    "ROOTS = [\n",
    "    Path(\"cnn/stories\"),\n",
    "    Path(\"dailymail_stories/dailymail/stories\"),\n",
    "]\n",
    "\n",
    "def build_story_df(roots):\n",
    "    \"\"\"\n",
    "    Lê todos os .story, gera um DataFrame com story_id, content e filepath.\n",
    "    \"\"\"\n",
    "    rows = []\n",
    "    for root in roots:\n",
    "        for p in tqdm(root.rglob(\"*.story\")):          # rglob cobre sub-pastas, se existirem\n",
    "            story_id = p.stem                    # ex.: 'abc123' de 'abc123.story'\n",
    "            with p.open(encoding=\"utf-8\") as fh:\n",
    "                content = fh.read()\n",
    "            rows.append(\n",
    "                {\"story_id\": story_id,\n",
    "                 \"content\": content,\n",
    "                 \"filepath_story\": str(p)}\n",
    "            )\n",
    "    return pd.DataFrame(rows)\n",
    "\n",
    "stories_df = build_story_df(ROOTS)\n",
    "print(stories_df.head())\n"
   ]
  },
  {
   "cell_type": "markdown",
   "id": "e01a9286",
   "metadata": {},
   "source": [
    "Usando o exemplo \n",
    "\n",
    "`'cnndm/dailymail/stories/fbbafa743a8c2ecd2cedf65c6c61956b2db8ec5c.story'`\n"
   ]
  },
  {
   "cell_type": "code",
   "execution_count": null,
   "id": "a346f765",
   "metadata": {},
   "outputs": [],
   "source": [
    "df[\"story_id\"] = (df[\"filepath\"]\n",
    "                  .str.split(\"/\")            # quebra por barras\n",
    "                  .str[-1]                   # pega o último item\n",
    "                  .str.replace(\".story\", \"\", regex=False))\n",
    "\n",
    "# Lista de story_ids que realmente existem nos diretórios\n",
    "ids_validos = set(stories_df[\"story_id\"])\n",
    "\n",
    "# Equivalente ao seu lista_encontrados, mas vetorizado\n",
    "df[\"existe_story\"] = df[\"story_id\"].isin(ids_validos)"
   ]
  },
  {
   "cell_type": "code",
   "execution_count": null,
   "id": "a83e9010",
   "metadata": {},
   "outputs": [],
   "source": [
    "df_merged = (\n",
    "    df.merge(stories_df[[\"story_id\", \"content\"]],  # só traz o texto\n",
    "             on=\"story_id\",\n",
    "             how=\"left\",            # left join mantém todo o df original\n",
    "             suffixes=(\"\", \"_story\"))\n",
    ")"
   ]
  },
  {
   "cell_type": "code",
   "execution_count": null,
   "id": "adb17fa7",
   "metadata": {},
   "outputs": [
    {
     "data": {
      "text/plain": [
       "existe_story\n",
       "True    1600\n",
       "Name: count, dtype: int64"
      ]
     },
     "metadata": {},
     "output_type": "display_data"
    }
   ],
   "source": [
    "df_merged.existe_story.value_counts()"
   ]
  },
  {
   "cell_type": "code",
   "execution_count": null,
   "id": "6db77dc3",
   "metadata": {},
   "outputs": [],
   "source": [
    "df_merged.to_csv(\"C:\\\\Users\\\\thiago.ouverney\\\\Projetos\\\\pyAutoSummarizer\\\\data\\\\model_annotations_merged.csv\")"
   ]
  },
  {
   "cell_type": "code",
   "execution_count": null,
   "id": "687b2228",
   "metadata": {},
   "outputs": [
    {
     "name": "stdout",
     "output_type": "stream",
     "text": [
      "Paul Merson has restarted his row with Andros Townsend after the Tottenham midfielder was brought on with only seven minutes remaining in his team's 0-0 draw with Burnley on Sunday.\n",
      "\n",
      "'Just been watching the game, did you miss the coach? #RubberDub #7minutes,' Merson put on Twitter.\n",
      "\n",
      "Merson initially angered Townsend for writing in his Sky Sports column that 'if Andros Townsend can get in (the England team) then it opens it up to anybody.'\n",
      "\n",
      "Paul Merson had another dig at Andros Townsend after his appearance for Tottenham against Burnley\n",
      "\n",
      "Townsend was brought on in the 83rd minute for Tottenham as they drew 0-0 against Burnley\n",
      "\n",
      "Andros Townsend scores England's equaliser in their 1-1 friendly draw with Italy in Turin on Tuesday night\n",
      "\n",
      "The former Arsenal man was proven wrong when Townsend hit a stunning equaliser for England against Italy and he duly admitted his mistake.\n",
      "\n",
      "'It's not as though I was watching hoping he wouldn't score for England, I'm genuinely pleased for him and fair play to him – it was a great goal,' Merson said. 'It's just a matter of opinion, and my opinion was that he got pulled off after half an hour at Manchester United in front of Roy Hodgson, so he shouldn't have been in the squad.\n",
      "\n",
      "'When I'm wrong, I hold my hands up. I don't have a problem with doing that - I'll always be the first to admit when I'm wrong.'\n",
      "\n",
      "Townsend hit back at Merson on Twitter after scoring for England against Italy\n",
      "\n",
      "Sky Sports pundit  Merson (centre) criticised Townsend's call-up to the England squad last week\n",
      "\n",
      "Townsend hit back at Merson after netting for England in Turin on Wednesday, saying 'Not bad for a player that should be 'nowhere near the squad' ay @PaulMerse?'\n",
      "\n",
      "Any bad feeling between the pair seemed to have passed but Merson was unable to resist having another dig at Townsend after Tottenham drew at Turf Moor.\n",
      "\n",
      " \n",
      "\n",
      " \n",
      "\n",
      " \n",
      "\n",
      "@highlight\n",
      "\n",
      "Andros Townsend an 83rd minute sub in Tottenham's draw with Burnley\n",
      "\n",
      "@highlight\n",
      "\n",
      "He was unable to find a winner as the game ended without a goal\n",
      "\n",
      "@highlight\n",
      "\n",
      "Townsend had clashed with Paul Merson last week over England call-up  \n"
     ]
    }
   ],
   "source": [
    "print(df_merged.loc[0,'content'])"
   ]
  },
  {
   "cell_type": "markdown",
   "id": "22c7c3b2",
   "metadata": {},
   "source": [
    "> Analisando referencia gerada por um modelo extrativo "
   ]
  },
  {
   "cell_type": "code",
   "execution_count": null,
   "id": "ea57bd2c",
   "metadata": {},
   "outputs": [
    {
     "name": "stdout",
     "output_type": "stream",
     "text": [
      "\" roots , \" the epic miniseries about an african - american slave and his descendants , had a staggering audience of over 100 million viewers back in 1977 . now a&e networks are remaking the miniseries , to air in 2016 .\n"
     ]
    }
   ],
   "source": [
    "decoded_m5 = df[(df.id=='cnn-test-fbbafa743a8c2ecd2cedf65c6c61956b2db8ec5c') & (df.model_id == 'M5')].decoded.values[0]\n",
    "print(decoded_m5)"
   ]
  },
  {
   "cell_type": "code",
   "execution_count": null,
   "id": "fd01bebd",
   "metadata": {},
   "outputs": [
    {
     "name": "stdout",
     "output_type": "stream",
     "text": [
      "A&E Networks will simulcast the original \"Roots\" in 2016. The original \"Roots\" premiered in 1977 and ran for four seasons. The miniseries followed Kunta Kinte, a free black man in Virginia, as he was sold into slavery.\n"
     ]
    }
   ],
   "source": [
    "decoded_m20 = df[(df.id=='cnn-test-fbbafa743a8c2ecd2cedf65c6c61956b2db8ec5c') & (df.model_id == 'M20')].decoded.values[0]\n",
    "print(decoded_m20)"
   ]
  }
 ],
 "metadata": {
  "language_info": {
   "name": "python"
  }
 },
 "nbformat": 4,
 "nbformat_minor": 5
}
